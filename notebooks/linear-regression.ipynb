{
 "cells": [
  {
   "cell_type": "markdown",
   "id": "34265b58",
   "metadata": {
    "_cell_guid": "b1076dfc-b9ad-4769-8c92-a6c4dae69d19",
    "_uuid": "8f2839f25d086af736a60e9eeb907d3b93b6e0e5",
    "execution": {
     "iopub.execute_input": "2023-07-17T06:42:43.814252Z",
     "iopub.status.busy": "2023-07-17T06:42:43.813771Z",
     "iopub.status.idle": "2023-07-17T06:42:43.820131Z",
     "shell.execute_reply": "2023-07-17T06:42:43.818807Z",
     "shell.execute_reply.started": "2023-07-17T06:42:43.814215Z"
    },
    "papermill": {
     "duration": 0.007393,
     "end_time": "2023-08-06T11:00:02.366927",
     "exception": false,
     "start_time": "2023-08-06T11:00:02.359534",
     "status": "completed"
    },
    "tags": []
   },
   "source": [
    "## Setup"
   ]
  },
  {
   "cell_type": "code",
   "execution_count": 1,
   "id": "bab243ff",
   "metadata": {
    "execution": {
     "iopub.execute_input": "2023-08-06T11:00:02.382731Z",
     "iopub.status.busy": "2023-08-06T11:00:02.381988Z",
     "iopub.status.idle": "2023-08-06T11:00:02.393814Z",
     "shell.execute_reply": "2023-08-06T11:00:02.392982Z"
    },
    "papermill": {
     "duration": 0.021889,
     "end_time": "2023-08-06T11:00:02.395765",
     "exception": false,
     "start_time": "2023-08-06T11:00:02.373876",
     "status": "completed"
    },
    "tags": []
   },
   "outputs": [],
   "source": [
    "import numpy as np\n",
    "import pandas as pd"
   ]
  },
  {
   "cell_type": "markdown",
   "id": "0f41b550",
   "metadata": {
    "papermill": {
     "duration": 0.006596,
     "end_time": "2023-08-06T11:00:02.409129",
     "exception": false,
     "start_time": "2023-08-06T11:00:02.402533",
     "status": "completed"
    },
    "tags": []
   },
   "source": [
    "## Load Data"
   ]
  },
  {
   "cell_type": "code",
   "execution_count": 2,
   "id": "847953bd",
   "metadata": {
    "execution": {
     "iopub.execute_input": "2023-08-06T11:00:02.424514Z",
     "iopub.status.busy": "2023-08-06T11:00:02.423768Z",
     "iopub.status.idle": "2023-08-06T11:00:02.531639Z",
     "shell.execute_reply": "2023-08-06T11:00:02.530701Z"
    },
    "papermill": {
     "duration": 0.117784,
     "end_time": "2023-08-06T11:00:02.533964",
     "exception": false,
     "start_time": "2023-08-06T11:00:02.416180",
     "status": "completed"
    },
    "tags": []
   },
   "outputs": [],
   "source": [
    "df_train_prompts = pd.read_csv('/kaggle/input/commonlit-evaluate-student-summaries/prompts_train.csv')\n",
    "df_train_summaries = pd.read_csv('/kaggle/input/commonlit-evaluate-student-summaries/summaries_train.csv')\n",
    "df_test_prompts = pd.read_csv('/kaggle/input/commonlit-evaluate-student-summaries/prompts_test.csv')\n",
    "df_test_summaries = pd.read_csv('/kaggle/input/commonlit-evaluate-student-summaries/summaries_test.csv')"
   ]
  },
  {
   "cell_type": "markdown",
   "id": "d1a0567a",
   "metadata": {
    "execution": {
     "iopub.execute_input": "2023-07-17T06:42:44.348496Z",
     "iopub.status.busy": "2023-07-17T06:42:44.348095Z",
     "iopub.status.idle": "2023-07-17T06:42:44.376198Z",
     "shell.execute_reply": "2023-07-17T06:42:44.375008Z",
     "shell.execute_reply.started": "2023-07-17T06:42:44.348466Z"
    },
    "papermill": {
     "duration": 0.006484,
     "end_time": "2023-08-06T11:00:02.547583",
     "exception": false,
     "start_time": "2023-08-06T11:00:02.541099",
     "status": "completed"
    },
    "tags": []
   },
   "source": [
    "## Build train set"
   ]
  },
  {
   "cell_type": "code",
   "execution_count": 3,
   "id": "c90fe307",
   "metadata": {
    "execution": {
     "iopub.execute_input": "2023-08-06T11:00:02.562923Z",
     "iopub.status.busy": "2023-08-06T11:00:02.562599Z",
     "iopub.status.idle": "2023-08-06T11:00:02.602016Z",
     "shell.execute_reply": "2023-08-06T11:00:02.600826Z"
    },
    "papermill": {
     "duration": 0.050609,
     "end_time": "2023-08-06T11:00:02.605235",
     "exception": false,
     "start_time": "2023-08-06T11:00:02.554626",
     "status": "completed"
    },
    "tags": []
   },
   "outputs": [
    {
     "data": {
      "text/html": [
       "<div>\n",
       "<style scoped>\n",
       "    .dataframe tbody tr th:only-of-type {\n",
       "        vertical-align: middle;\n",
       "    }\n",
       "\n",
       "    .dataframe tbody tr th {\n",
       "        vertical-align: top;\n",
       "    }\n",
       "\n",
       "    .dataframe thead th {\n",
       "        text-align: right;\n",
       "    }\n",
       "</style>\n",
       "<table border=\"1\" class=\"dataframe\">\n",
       "  <thead>\n",
       "    <tr style=\"text-align: right;\">\n",
       "      <th></th>\n",
       "      <th>student_id</th>\n",
       "      <th>prompt_id</th>\n",
       "      <th>text</th>\n",
       "      <th>content</th>\n",
       "      <th>wording</th>\n",
       "      <th>prompt_question</th>\n",
       "      <th>prompt_title</th>\n",
       "      <th>prompt_text</th>\n",
       "    </tr>\n",
       "  </thead>\n",
       "  <tbody>\n",
       "    <tr>\n",
       "      <th>0</th>\n",
       "      <td>000e8c3c7ddb</td>\n",
       "      <td>814d6b</td>\n",
       "      <td>The third wave was an experimentto see how peo...</td>\n",
       "      <td>0.205683</td>\n",
       "      <td>0.380538</td>\n",
       "      <td>Summarize how the Third Wave developed over su...</td>\n",
       "      <td>The Third Wave</td>\n",
       "      <td>Background \\r\\nThe Third Wave experiment took ...</td>\n",
       "    </tr>\n",
       "    <tr>\n",
       "      <th>1</th>\n",
       "      <td>0070c9e7af47</td>\n",
       "      <td>814d6b</td>\n",
       "      <td>The Third Wave developed  rapidly because the ...</td>\n",
       "      <td>3.272894</td>\n",
       "      <td>3.219757</td>\n",
       "      <td>Summarize how the Third Wave developed over su...</td>\n",
       "      <td>The Third Wave</td>\n",
       "      <td>Background \\r\\nThe Third Wave experiment took ...</td>\n",
       "    </tr>\n",
       "    <tr>\n",
       "      <th>2</th>\n",
       "      <td>0095993991fe</td>\n",
       "      <td>814d6b</td>\n",
       "      <td>The third wave only started as an experiment w...</td>\n",
       "      <td>0.205683</td>\n",
       "      <td>0.380538</td>\n",
       "      <td>Summarize how the Third Wave developed over su...</td>\n",
       "      <td>The Third Wave</td>\n",
       "      <td>Background \\r\\nThe Third Wave experiment took ...</td>\n",
       "    </tr>\n",
       "    <tr>\n",
       "      <th>3</th>\n",
       "      <td>00c20c6ddd23</td>\n",
       "      <td>814d6b</td>\n",
       "      <td>The experimen was orginally about how even whe...</td>\n",
       "      <td>0.567975</td>\n",
       "      <td>0.969062</td>\n",
       "      <td>Summarize how the Third Wave developed over su...</td>\n",
       "      <td>The Third Wave</td>\n",
       "      <td>Background \\r\\nThe Third Wave experiment took ...</td>\n",
       "    </tr>\n",
       "    <tr>\n",
       "      <th>4</th>\n",
       "      <td>00d40ad10dc9</td>\n",
       "      <td>814d6b</td>\n",
       "      <td>The third wave developed so quickly due to the...</td>\n",
       "      <td>-0.910596</td>\n",
       "      <td>-0.081769</td>\n",
       "      <td>Summarize how the Third Wave developed over su...</td>\n",
       "      <td>The Third Wave</td>\n",
       "      <td>Background \\r\\nThe Third Wave experiment took ...</td>\n",
       "    </tr>\n",
       "  </tbody>\n",
       "</table>\n",
       "</div>"
      ],
      "text/plain": [
       "     student_id prompt_id                                               text  \\\n",
       "0  000e8c3c7ddb    814d6b  The third wave was an experimentto see how peo...   \n",
       "1  0070c9e7af47    814d6b  The Third Wave developed  rapidly because the ...   \n",
       "2  0095993991fe    814d6b  The third wave only started as an experiment w...   \n",
       "3  00c20c6ddd23    814d6b  The experimen was orginally about how even whe...   \n",
       "4  00d40ad10dc9    814d6b  The third wave developed so quickly due to the...   \n",
       "\n",
       "    content   wording                                    prompt_question  \\\n",
       "0  0.205683  0.380538  Summarize how the Third Wave developed over su...   \n",
       "1  3.272894  3.219757  Summarize how the Third Wave developed over su...   \n",
       "2  0.205683  0.380538  Summarize how the Third Wave developed over su...   \n",
       "3  0.567975  0.969062  Summarize how the Third Wave developed over su...   \n",
       "4 -0.910596 -0.081769  Summarize how the Third Wave developed over su...   \n",
       "\n",
       "     prompt_title                                        prompt_text  \n",
       "0  The Third Wave  Background \\r\\nThe Third Wave experiment took ...  \n",
       "1  The Third Wave  Background \\r\\nThe Third Wave experiment took ...  \n",
       "2  The Third Wave  Background \\r\\nThe Third Wave experiment took ...  \n",
       "3  The Third Wave  Background \\r\\nThe Third Wave experiment took ...  \n",
       "4  The Third Wave  Background \\r\\nThe Third Wave experiment took ...  "
      ]
     },
     "execution_count": 3,
     "metadata": {},
     "output_type": "execute_result"
    }
   ],
   "source": [
    "df_train = df_train_summaries.merge(df_train_prompts, on='prompt_id')\n",
    "df_test = df_test_summaries.merge(df_test_prompts, on='prompt_id')\n",
    "\n",
    "df_train.head()"
   ]
  },
  {
   "cell_type": "markdown",
   "id": "1399d900",
   "metadata": {
    "papermill": {
     "duration": 0.00711,
     "end_time": "2023-08-06T11:00:02.620261",
     "exception": false,
     "start_time": "2023-08-06T11:00:02.613151",
     "status": "completed"
    },
    "tags": []
   },
   "source": [
    "## Add lenght feature"
   ]
  },
  {
   "cell_type": "code",
   "execution_count": 4,
   "id": "74d3f23a",
   "metadata": {
    "execution": {
     "iopub.execute_input": "2023-08-06T11:00:02.636388Z",
     "iopub.status.busy": "2023-08-06T11:00:02.635851Z",
     "iopub.status.idle": "2023-08-06T11:00:02.651553Z",
     "shell.execute_reply": "2023-08-06T11:00:02.650499Z"
    },
    "papermill": {
     "duration": 0.026508,
     "end_time": "2023-08-06T11:00:02.654036",
     "exception": false,
     "start_time": "2023-08-06T11:00:02.627528",
     "status": "completed"
    },
    "tags": []
   },
   "outputs": [],
   "source": [
    "\n",
    "df_train['length_ratio'] = df_train['text'].apply(len) / df_train['prompt_text'].apply(len)\n",
    "df_test['length_ratio'] = df_test['text'].apply(len) / df_test['prompt_text'].apply(len)\n"
   ]
  },
  {
   "cell_type": "markdown",
   "id": "f8c02da5",
   "metadata": {
    "papermill": {
     "duration": 0.007307,
     "end_time": "2023-08-06T11:00:02.669591",
     "exception": false,
     "start_time": "2023-08-06T11:00:02.662284",
     "status": "completed"
    },
    "tags": []
   },
   "source": [
    "## Add gzip scores"
   ]
  },
  {
   "cell_type": "code",
   "execution_count": 5,
   "id": "86dba149",
   "metadata": {
    "execution": {
     "iopub.execute_input": "2023-08-06T11:00:02.686083Z",
     "iopub.status.busy": "2023-08-06T11:00:02.685771Z",
     "iopub.status.idle": "2023-08-06T11:00:02.689822Z",
     "shell.execute_reply": "2023-08-06T11:00:02.688857Z"
    },
    "papermill": {
     "duration": 0.014793,
     "end_time": "2023-08-06T11:00:02.691726",
     "exception": false,
     "start_time": "2023-08-06T11:00:02.676933",
     "status": "completed"
    },
    "tags": []
   },
   "outputs": [],
   "source": [
    "import gzip"
   ]
  },
  {
   "cell_type": "code",
   "execution_count": 6,
   "id": "c2f6b56b",
   "metadata": {
    "execution": {
     "iopub.execute_input": "2023-08-06T11:00:02.708727Z",
     "iopub.status.busy": "2023-08-06T11:00:02.707948Z",
     "iopub.status.idle": "2023-08-06T11:00:02.713039Z",
     "shell.execute_reply": "2023-08-06T11:00:02.712217Z"
    },
    "papermill": {
     "duration": 0.014882,
     "end_time": "2023-08-06T11:00:02.714932",
     "exception": false,
     "start_time": "2023-08-06T11:00:02.700050",
     "status": "completed"
    },
    "tags": []
   },
   "outputs": [],
   "source": [
    "def calculate_compressed_size(text):\n",
    "    # Convert the text to bytes\n",
    "    text_bytes = text.encode('utf-8')\n",
    "    \n",
    "    # Compress the bytes\n",
    "    compressed_bytes = gzip.compress(text_bytes)\n",
    "    \n",
    "    # Return the length of the compressed bytes\n",
    "    return len(compressed_bytes)"
   ]
  },
  {
   "cell_type": "code",
   "execution_count": 7,
   "id": "8ae58068",
   "metadata": {
    "execution": {
     "iopub.execute_input": "2023-08-06T11:00:02.730966Z",
     "iopub.status.busy": "2023-08-06T11:00:02.730180Z",
     "iopub.status.idle": "2023-08-06T11:00:06.193746Z",
     "shell.execute_reply": "2023-08-06T11:00:06.192761Z"
    },
    "papermill": {
     "duration": 3.474021,
     "end_time": "2023-08-06T11:00:06.196063",
     "exception": false,
     "start_time": "2023-08-06T11:00:02.722042",
     "status": "completed"
    },
    "tags": []
   },
   "outputs": [],
   "source": [
    "df_train['score'] = df_train['text'].apply(lambda x: len(x) / calculate_compressed_size(x))\n",
    "df_test['score'] = df_test['text'].apply(lambda x: len(x) / calculate_compressed_size(x))\n",
    "\n",
    "df_train['paraphrase'] = df_train.apply(lambda row: calculate_compressed_size(row['text'] + row['prompt_text']) / (calculate_compressed_size(row['text']) + calculate_compressed_size(row['prompt_text'])), axis=1)\n",
    "df_test['paraphrase'] = df_test.apply(lambda row: calculate_compressed_size(row['text'] + row['prompt_text']) / (calculate_compressed_size(row['text']) + calculate_compressed_size(row['prompt_text'])), axis=1)\n"
   ]
  },
  {
   "cell_type": "markdown",
   "id": "08f9954f",
   "metadata": {
    "papermill": {
     "duration": 0.007189,
     "end_time": "2023-08-06T11:00:06.210801",
     "exception": false,
     "start_time": "2023-08-06T11:00:06.203612",
     "status": "completed"
    },
    "tags": []
   },
   "source": [
    "## Add semantic"
   ]
  },
  {
   "cell_type": "code",
   "execution_count": 8,
   "id": "2564cc58",
   "metadata": {
    "execution": {
     "iopub.execute_input": "2023-08-06T11:00:06.227627Z",
     "iopub.status.busy": "2023-08-06T11:00:06.227318Z",
     "iopub.status.idle": "2023-08-06T11:03:25.637756Z",
     "shell.execute_reply": "2023-08-06T11:03:25.636741Z"
    },
    "papermill": {
     "duration": 199.431193,
     "end_time": "2023-08-06T11:03:25.649279",
     "exception": false,
     "start_time": "2023-08-06T11:00:06.218086",
     "status": "completed"
    },
    "tags": []
   },
   "outputs": [
    {
     "name": "stderr",
     "output_type": "stream",
     "text": [
      "/opt/conda/lib/python3.10/site-packages/scipy/__init__.py:146: UserWarning: A NumPy version >=1.16.5 and <1.23.0 is required for this version of SciPy (detected version 1.23.5\n",
      "  warnings.warn(f\"A NumPy version >={np_minversion} and <{np_maxversion}\"\n",
      "/opt/conda/lib/python3.10/site-packages/tensorflow_io/python/ops/__init__.py:98: UserWarning: unable to load libtensorflow_io_plugins.so: unable to open file: libtensorflow_io_plugins.so, from paths: ['/opt/conda/lib/python3.10/site-packages/tensorflow_io/python/ops/libtensorflow_io_plugins.so']\n",
      "caused by: ['/opt/conda/lib/python3.10/site-packages/tensorflow_io/python/ops/libtensorflow_io_plugins.so: undefined symbol: _ZN3tsl6StatusC1EN10tensorflow5error4CodeESt17basic_string_viewIcSt11char_traitsIcEENS_14SourceLocationE']\n",
      "  warnings.warn(f\"unable to load libtensorflow_io_plugins.so: {e}\")\n",
      "/opt/conda/lib/python3.10/site-packages/tensorflow_io/python/ops/__init__.py:104: UserWarning: file system plugins are not loaded: unable to open file: libtensorflow_io.so, from paths: ['/opt/conda/lib/python3.10/site-packages/tensorflow_io/python/ops/libtensorflow_io.so']\n",
      "caused by: ['/opt/conda/lib/python3.10/site-packages/tensorflow_io/python/ops/libtensorflow_io.so: undefined symbol: _ZTVN10tensorflow13GcsFileSystemE']\n",
      "  warnings.warn(f\"file system plugins are not loaded: {e}\")\n"
     ]
    },
    {
     "name": "stdout",
     "output_type": "stream",
     "text": [
      "There are 2 GPU(s) available.\n",
      "We will use the GPUs: [0, 1]\n"
     ]
    },
    {
     "name": "stderr",
     "output_type": "stream",
     "text": [
      "Some weights of the model checkpoint at /kaggle/input/distilbert-base-uncased were not used when initializing DistilBertModel: ['vocab_layer_norm.weight', 'vocab_projector.weight', 'vocab_transform.bias', 'vocab_layer_norm.bias', 'vocab_transform.weight', 'vocab_projector.bias']\n",
      "- This IS expected if you are initializing DistilBertModel from the checkpoint of a model trained on another task or with another architecture (e.g. initializing a BertForSequenceClassification model from a BertForPreTraining model).\n",
      "- This IS NOT expected if you are initializing DistilBertModel from the checkpoint of a model that you expect to be exactly identical (initializing a BertForSequenceClassification model from a BertForSequenceClassification model).\n"
     ]
    },
    {
     "data": {
      "text/html": [
       "<div>\n",
       "<style scoped>\n",
       "    .dataframe tbody tr th:only-of-type {\n",
       "        vertical-align: middle;\n",
       "    }\n",
       "\n",
       "    .dataframe tbody tr th {\n",
       "        vertical-align: top;\n",
       "    }\n",
       "\n",
       "    .dataframe thead th {\n",
       "        text-align: right;\n",
       "    }\n",
       "</style>\n",
       "<table border=\"1\" class=\"dataframe\">\n",
       "  <thead>\n",
       "    <tr style=\"text-align: right;\">\n",
       "      <th></th>\n",
       "      <th>student_id</th>\n",
       "      <th>prompt_id</th>\n",
       "      <th>text</th>\n",
       "      <th>content</th>\n",
       "      <th>wording</th>\n",
       "      <th>prompt_question</th>\n",
       "      <th>prompt_title</th>\n",
       "      <th>prompt_text</th>\n",
       "      <th>length_ratio</th>\n",
       "      <th>score</th>\n",
       "      <th>paraphrase</th>\n",
       "      <th>similarity_score</th>\n",
       "    </tr>\n",
       "  </thead>\n",
       "  <tbody>\n",
       "    <tr>\n",
       "      <th>0</th>\n",
       "      <td>000e8c3c7ddb</td>\n",
       "      <td>814d6b</td>\n",
       "      <td>The third wave was an experimentto see how peo...</td>\n",
       "      <td>0.205683</td>\n",
       "      <td>0.380538</td>\n",
       "      <td>Summarize how the Third Wave developed over su...</td>\n",
       "      <td>The Third Wave</td>\n",
       "      <td>Background \\r\\nThe Third Wave experiment took ...</td>\n",
       "      <td>0.097027</td>\n",
       "      <td>1.565611</td>\n",
       "      <td>0.960753</td>\n",
       "      <td>0.719612</td>\n",
       "    </tr>\n",
       "    <tr>\n",
       "      <th>1</th>\n",
       "      <td>0070c9e7af47</td>\n",
       "      <td>814d6b</td>\n",
       "      <td>The Third Wave developed  rapidly because the ...</td>\n",
       "      <td>3.272894</td>\n",
       "      <td>3.219757</td>\n",
       "      <td>Summarize how the Third Wave developed over su...</td>\n",
       "      <td>The Third Wave</td>\n",
       "      <td>Background \\r\\nThe Third Wave experiment took ...</td>\n",
       "      <td>0.343522</td>\n",
       "      <td>1.896285</td>\n",
       "      <td>0.934792</td>\n",
       "      <td>0.896692</td>\n",
       "    </tr>\n",
       "    <tr>\n",
       "      <th>2</th>\n",
       "      <td>0095993991fe</td>\n",
       "      <td>814d6b</td>\n",
       "      <td>The third wave only started as an experiment w...</td>\n",
       "      <td>0.205683</td>\n",
       "      <td>0.380538</td>\n",
       "      <td>Summarize how the Third Wave developed over su...</td>\n",
       "      <td>The Third Wave</td>\n",
       "      <td>Background \\r\\nThe Third Wave experiment took ...</td>\n",
       "      <td>0.096747</td>\n",
       "      <td>1.480687</td>\n",
       "      <td>0.939637</td>\n",
       "      <td>0.776793</td>\n",
       "    </tr>\n",
       "    <tr>\n",
       "      <th>3</th>\n",
       "      <td>00c20c6ddd23</td>\n",
       "      <td>814d6b</td>\n",
       "      <td>The experimen was orginally about how even whe...</td>\n",
       "      <td>0.567975</td>\n",
       "      <td>0.969062</td>\n",
       "      <td>Summarize how the Third Wave developed over su...</td>\n",
       "      <td>The Third Wave</td>\n",
       "      <td>Background \\r\\nThe Third Wave experiment took ...</td>\n",
       "      <td>0.126472</td>\n",
       "      <td>1.645985</td>\n",
       "      <td>0.929953</td>\n",
       "      <td>0.781051</td>\n",
       "    </tr>\n",
       "    <tr>\n",
       "      <th>4</th>\n",
       "      <td>00d40ad10dc9</td>\n",
       "      <td>814d6b</td>\n",
       "      <td>The third wave developed so quickly due to the...</td>\n",
       "      <td>-0.910596</td>\n",
       "      <td>-0.081769</td>\n",
       "      <td>Summarize how the Third Wave developed over su...</td>\n",
       "      <td>The Third Wave</td>\n",
       "      <td>Background \\r\\nThe Third Wave experiment took ...</td>\n",
       "      <td>0.040662</td>\n",
       "      <td>1.178862</td>\n",
       "      <td>0.959137</td>\n",
       "      <td>0.640840</td>\n",
       "    </tr>\n",
       "  </tbody>\n",
       "</table>\n",
       "</div>"
      ],
      "text/plain": [
       "     student_id prompt_id                                               text  \\\n",
       "0  000e8c3c7ddb    814d6b  The third wave was an experimentto see how peo...   \n",
       "1  0070c9e7af47    814d6b  The Third Wave developed  rapidly because the ...   \n",
       "2  0095993991fe    814d6b  The third wave only started as an experiment w...   \n",
       "3  00c20c6ddd23    814d6b  The experimen was orginally about how even whe...   \n",
       "4  00d40ad10dc9    814d6b  The third wave developed so quickly due to the...   \n",
       "\n",
       "    content   wording                                    prompt_question  \\\n",
       "0  0.205683  0.380538  Summarize how the Third Wave developed over su...   \n",
       "1  3.272894  3.219757  Summarize how the Third Wave developed over su...   \n",
       "2  0.205683  0.380538  Summarize how the Third Wave developed over su...   \n",
       "3  0.567975  0.969062  Summarize how the Third Wave developed over su...   \n",
       "4 -0.910596 -0.081769  Summarize how the Third Wave developed over su...   \n",
       "\n",
       "     prompt_title                                        prompt_text  \\\n",
       "0  The Third Wave  Background \\r\\nThe Third Wave experiment took ...   \n",
       "1  The Third Wave  Background \\r\\nThe Third Wave experiment took ...   \n",
       "2  The Third Wave  Background \\r\\nThe Third Wave experiment took ...   \n",
       "3  The Third Wave  Background \\r\\nThe Third Wave experiment took ...   \n",
       "4  The Third Wave  Background \\r\\nThe Third Wave experiment took ...   \n",
       "\n",
       "   length_ratio     score  paraphrase  similarity_score  \n",
       "0      0.097027  1.565611    0.960753          0.719612  \n",
       "1      0.343522  1.896285    0.934792          0.896692  \n",
       "2      0.096747  1.480687    0.939637          0.776793  \n",
       "3      0.126472  1.645985    0.929953          0.781051  \n",
       "4      0.040662  1.178862    0.959137          0.640840  "
      ]
     },
     "execution_count": 8,
     "metadata": {},
     "output_type": "execute_result"
    }
   ],
   "source": [
    "import pandas as pd\n",
    "import torch\n",
    "from transformers import DistilBertTokenizer, DistilBertModel\n",
    "from sklearn.metrics.pairwise import cosine_similarity\n",
    "\n",
    "if torch.cuda.is_available():    \n",
    "    n_gpu = torch.cuda.device_count()\n",
    "    device_ids = list(range(n_gpu))\n",
    "    device = torch.device(f'cuda:{device_ids[0]}')  # Choose the first device\n",
    "    print('There are %d GPU(s) available.' % n_gpu)\n",
    "    print('We will use the GPUs:', device_ids)\n",
    "else:\n",
    "    print('No GPU available, using the CPU instead.')\n",
    "    device = torch.device(\"cpu\")\n",
    "    device_ids = None\n",
    "\n",
    "path = '/kaggle/input/distilbert-base-uncased'\n",
    "\n",
    "# Load tokenizer and model\n",
    "tokenizer = DistilBertTokenizer.from_pretrained(path)\n",
    "model = DistilBertModel.from_pretrained(path)\n",
    "model.to(device)  # move the model to GPU or CPU based on availability\n",
    "\n",
    "if device_ids:\n",
    "    model = torch.nn.DataParallel(model, device_ids=device_ids) # Wrap the model with DataParallel\n",
    "\n",
    "import functools\n",
    "\n",
    "@functools.lru_cache(maxsize=128)\n",
    "def get_embedding(text):\n",
    "    inputs = tokenizer(text, max_length=512, truncation=True, padding='max_length', return_tensors='pt')\n",
    "    if device_ids:\n",
    "        inputs = {name: tensor.to(device) for name, tensor in inputs.items()}  # move inputs to GPU\n",
    "    with torch.no_grad():\n",
    "        outputs = model(**inputs)\n",
    "    return outputs.last_hidden_state.mean(dim=1).cpu().numpy()  # move the result back to cpu before converting to numpy\n",
    "\n",
    "# Compute embeddings and similarity score\n",
    "def get_similarity(row):\n",
    "    prompt_embedding = get_embedding(row['prompt_text'])\n",
    "    text_embedding = get_embedding(row['text'])\n",
    "    similarity = cosine_similarity(prompt_embedding, text_embedding)\n",
    "    return similarity[0][0]\n",
    "\n",
    "# Add similarity score to DataFrame\n",
    "# df_train['similarity_score'] = 0\n",
    "# df_test['similarity_score'] = 0\n",
    "df_train['similarity_score'] = df_train.apply(get_similarity, axis=1)\n",
    "df_test['similarity_score'] = df_test.apply(get_similarity, axis=1)\n",
    "\n",
    "# Print the DataFrame\n",
    "df_train.head()\n"
   ]
  },
  {
   "cell_type": "markdown",
   "id": "c36e14fd",
   "metadata": {
    "papermill": {
     "duration": 0.00794,
     "end_time": "2023-08-06T11:03:25.666220",
     "exception": false,
     "start_time": "2023-08-06T11:03:25.658280",
     "status": "completed"
    },
    "tags": []
   },
   "source": [
    "## Add synthatic features"
   ]
  },
  {
   "cell_type": "code",
   "execution_count": 9,
   "id": "882da940",
   "metadata": {
    "execution": {
     "iopub.execute_input": "2023-08-06T11:03:25.683186Z",
     "iopub.status.busy": "2023-08-06T11:03:25.682891Z",
     "iopub.status.idle": "2023-08-06T11:03:25.827672Z",
     "shell.execute_reply": "2023-08-06T11:03:25.826739Z"
    },
    "papermill": {
     "duration": 0.156049,
     "end_time": "2023-08-06T11:03:25.829971",
     "exception": false,
     "start_time": "2023-08-06T11:03:25.673922",
     "status": "completed"
    },
    "tags": []
   },
   "outputs": [],
   "source": [
    "def lexical_diversity(text):\n",
    "    tokens = text.split()\n",
    "    return len(set(tokens)) / len(tokens) if tokens else 0\n",
    "\n",
    "def avg_sentence_length(text):\n",
    "    sentences = text.split('.')\n",
    "    if '' in sentences: sentences.remove('')\n",
    "    return sum(len(s.split()) for s in sentences) / len(sentences) if sentences else 0\n",
    "\n",
    "\n",
    "def add_features(df):\n",
    "    df['lexical_diversity'] = df['text'].apply(lexical_diversity)\n",
    "    df['avg_sentence_length'] = df['text'].apply(avg_sentence_length)\n",
    "    return df\n",
    "\n",
    "# Apply the function to both the training and test datasets\n",
    "df_train = add_features(df_train)\n",
    "df_test = add_features(df_test)\n"
   ]
  },
  {
   "cell_type": "markdown",
   "id": "d6308713",
   "metadata": {
    "papermill": {
     "duration": 0.007846,
     "end_time": "2023-08-06T11:03:25.846130",
     "exception": false,
     "start_time": "2023-08-06T11:03:25.838284",
     "status": "completed"
    },
    "tags": []
   },
   "source": [
    "## Feature selection"
   ]
  },
  {
   "cell_type": "code",
   "execution_count": 10,
   "id": "bfa4880f",
   "metadata": {
    "execution": {
     "iopub.execute_input": "2023-08-06T11:03:25.863137Z",
     "iopub.status.busy": "2023-08-06T11:03:25.862850Z",
     "iopub.status.idle": "2023-08-06T11:03:25.868769Z",
     "shell.execute_reply": "2023-08-06T11:03:25.867871Z"
    },
    "papermill": {
     "duration": 0.01678,
     "end_time": "2023-08-06T11:03:25.870745",
     "exception": false,
     "start_time": "2023-08-06T11:03:25.853965",
     "status": "completed"
    },
    "tags": []
   },
   "outputs": [],
   "source": [
    "SYNTAXIC_FEATURES = [\"avg_sentence_length\",\"lexical_diversity\"]\n",
    "SEMANTIC_FEATURES = [\"similarity_score\"]\n",
    "COMPRESSION_FEATURES = [\"length_ratio\",\"paraphrase\", \"score\"]\n",
    "ALL_FEATURES = COMPRESSION_FEATURES + SEMANTIC_FEATURES + SYNTAXIC_FEATURES\n",
    "CONTENT_FEATURES = [\"length_ratio\", \"similarity_score\", \"paraphrase\"]\n",
    "WORDING_FEATURES = [\"length_ratio\", \"similarity_score\",\"avg_sentence_length\", \"paraphrase\"]"
   ]
  },
  {
   "cell_type": "code",
   "execution_count": 11,
   "id": "607c1457",
   "metadata": {
    "execution": {
     "iopub.execute_input": "2023-08-06T11:03:25.887768Z",
     "iopub.status.busy": "2023-08-06T11:03:25.887489Z",
     "iopub.status.idle": "2023-08-06T11:03:26.810469Z",
     "shell.execute_reply": "2023-08-06T11:03:26.809418Z"
    },
    "papermill": {
     "duration": 0.934511,
     "end_time": "2023-08-06T11:03:26.812989",
     "exception": false,
     "start_time": "2023-08-06T11:03:25.878478",
     "status": "completed"
    },
    "tags": []
   },
   "outputs": [
    {
     "data": {
      "image/png": "[encoded data removed]",
      "text/plain": [
       "<Figure size 1000x800 with 2 Axes>"
      ]
     },
     "metadata": {},
     "output_type": "display_data"
    }
   ],
   "source": [
    "import matplotlib.pyplot as plt\n",
    "import seaborn as sns\n",
    "\n",
    "# Calculate correlation matrix\n",
    "corr = df_train[ALL_FEATURES + [\"content\", \"wording\"]].corr()\n",
    "# Plot correlation matrix\n",
    "plt.figure(figsize=(10, 8))\n",
    "sns.heatmap(corr, annot=True, fmt=\".2f\", cmap='coolwarm', cbar=True, square=True)\n",
    "plt.title('Correlation Matrix of Features')\n",
    "plt.show()"
   ]
  },
  {
   "cell_type": "markdown",
   "id": "b48cd996",
   "metadata": {
    "papermill": {
     "duration": 0.009552,
     "end_time": "2023-08-06T11:03:26.832297",
     "exception": false,
     "start_time": "2023-08-06T11:03:26.822745",
     "status": "completed"
    },
    "tags": []
   },
   "source": [
    "## Build Model"
   ]
  },
  {
   "cell_type": "code",
   "execution_count": 12,
   "id": "cbf0e668",
   "metadata": {
    "execution": {
     "iopub.execute_input": "2023-08-06T11:03:26.852658Z",
     "iopub.status.busy": "2023-08-06T11:03:26.852349Z",
     "iopub.status.idle": "2023-08-06T11:03:27.140298Z",
     "shell.execute_reply": "2023-08-06T11:03:27.138847Z"
    },
    "papermill": {
     "duration": 0.306615,
     "end_time": "2023-08-06T11:03:27.148305",
     "exception": false,
     "start_time": "2023-08-06T11:03:26.841690",
     "status": "completed"
    },
    "tags": []
   },
   "outputs": [],
   "source": [
    "from sklearn.linear_model import LinearRegression\n",
    "\n",
    "model_content = LinearRegression().fit(df_train[CONTENT_FEATURES], df_train['content'])\n",
    "model_wording = LinearRegression().fit(df_train[WORDING_FEATURES], df_train['wording'])\n",
    "\n",
    "df_train['predicted_content'] = model_content.predict(df_train[CONTENT_FEATURES])\n",
    "df_train['predicted_wording'] = model_wording.predict(df_train[WORDING_FEATURES])\n",
    "\n",
    "df_test['content'] = model_content.predict(df_test[CONTENT_FEATURES])\n",
    "df_test['wording'] = model_wording.predict(df_test[WORDING_FEATURES])"
   ]
  },
  {
   "cell_type": "markdown",
   "id": "31f0f2ff",
   "metadata": {
    "papermill": {
     "duration": 0.021392,
     "end_time": "2023-08-06T11:03:27.195962",
     "exception": false,
     "start_time": "2023-08-06T11:03:27.174570",
     "status": "completed"
    },
    "tags": []
   },
   "source": [
    "## Evaluation"
   ]
  },
  {
   "cell_type": "code",
   "execution_count": 13,
   "id": "5c298bce",
   "metadata": {
    "execution": {
     "iopub.execute_input": "2023-08-06T11:03:27.235029Z",
     "iopub.status.busy": "2023-08-06T11:03:27.234498Z",
     "iopub.status.idle": "2023-08-06T11:03:27.245849Z",
     "shell.execute_reply": "2023-08-06T11:03:27.244949Z"
    },
    "papermill": {
     "duration": 0.03406,
     "end_time": "2023-08-06T11:03:27.248327",
     "exception": false,
     "start_time": "2023-08-06T11:03:27.214267",
     "status": "completed"
    },
    "tags": []
   },
   "outputs": [
    {
     "name": "stdout",
     "output_type": "stream",
     "text": [
      "Content Model R2 Score: 0.7221892380172248\n",
      "Wording Model R2 Score: 0.5008006188756884\n"
     ]
    }
   ],
   "source": [
    "from sklearn.metrics import r2_score\n",
    "\n",
    "# Calculate R2 score for each model\n",
    "r2_content = r2_score(df_train['content'], df_train['predicted_content'])\n",
    "r2_wording = r2_score(df_train['wording'], df_train['predicted_wording'])\n",
    "\n",
    "print(f\"Content Model R2 Score: {r2_content}\")\n",
    "print(f\"Wording Model R2 Score: {r2_wording}\")\n"
   ]
  },
  {
   "cell_type": "code",
   "execution_count": 14,
   "id": "f9a55380",
   "metadata": {
    "execution": {
     "iopub.execute_input": "2023-08-06T11:03:27.267820Z",
     "iopub.status.busy": "2023-08-06T11:03:27.267214Z",
     "iopub.status.idle": "2023-08-06T11:03:27.272959Z",
     "shell.execute_reply": "2023-08-06T11:03:27.272304Z"
    },
    "papermill": {
     "duration": 0.017545,
     "end_time": "2023-08-06T11:03:27.274829",
     "exception": false,
     "start_time": "2023-08-06T11:03:27.257284",
     "status": "completed"
    },
    "tags": []
   },
   "outputs": [],
   "source": [
    "import numpy as np\n",
    "\n",
    "def compute_mcrmse(df):\n",
    "    def rmse(actual, predictions):\n",
    "        return np.sqrt(np.mean((actual - predictions)**2))\n",
    "\n",
    "    rmse_content = rmse(df['content'], df['predicted_content'])\n",
    "    rmse_wording = rmse(df['wording'], df['predicted_wording'])\n",
    "\n",
    "    mcrmse = np.mean([rmse_content, rmse_wording])\n",
    "    \n",
    "    return mcrmse, rmse_content, rmse_wording\n",
    "\n"
   ]
  },
  {
   "cell_type": "code",
   "execution_count": 15,
   "id": "67406d7c",
   "metadata": {
    "execution": {
     "iopub.execute_input": "2023-08-06T11:03:27.295359Z",
     "iopub.status.busy": "2023-08-06T11:03:27.294680Z",
     "iopub.status.idle": "2023-08-06T11:03:27.301762Z",
     "shell.execute_reply": "2023-08-06T11:03:27.300647Z"
    },
    "papermill": {
     "duration": 0.019576,
     "end_time": "2023-08-06T11:03:27.304000",
     "exception": false,
     "start_time": "2023-08-06T11:03:27.284424",
     "status": "completed"
    },
    "tags": []
   },
   "outputs": [
    {
     "name": "stdout",
     "output_type": "stream",
     "text": [
      "mcrmse\n",
      "(0.6409812217042844, 0.5500036264748479, 0.7319588169337209)\n"
     ]
    }
   ],
   "source": [
    "print(\"mcrmse\")\n",
    "print(compute_mcrmse(df_train))"
   ]
  },
  {
   "cell_type": "markdown",
   "id": "e71a3990",
   "metadata": {
    "papermill": {
     "duration": 0.012576,
     "end_time": "2023-08-06T11:03:27.325776",
     "exception": false,
     "start_time": "2023-08-06T11:03:27.313200",
     "status": "completed"
    },
    "tags": []
   },
   "source": [
    "## Submit"
   ]
  },
  {
   "cell_type": "code",
   "execution_count": 16,
   "id": "fb6d8527",
   "metadata": {
    "execution": {
     "iopub.execute_input": "2023-08-06T11:03:27.345097Z",
     "iopub.status.busy": "2023-08-06T11:03:27.344468Z",
     "iopub.status.idle": "2023-08-06T11:03:27.361195Z",
     "shell.execute_reply": "2023-08-06T11:03:27.360181Z"
    },
    "papermill": {
     "duration": 0.028793,
     "end_time": "2023-08-06T11:03:27.363413",
     "exception": false,
     "start_time": "2023-08-06T11:03:27.334620",
     "status": "completed"
    },
    "tags": []
   },
   "outputs": [
    {
     "data": {
      "text/html": [
       "<div>\n",
       "<style scoped>\n",
       "    .dataframe tbody tr th:only-of-type {\n",
       "        vertical-align: middle;\n",
       "    }\n",
       "\n",
       "    .dataframe tbody tr th {\n",
       "        vertical-align: top;\n",
       "    }\n",
       "\n",
       "    .dataframe thead th {\n",
       "        text-align: right;\n",
       "    }\n",
       "</style>\n",
       "<table border=\"1\" class=\"dataframe\">\n",
       "  <thead>\n",
       "    <tr style=\"text-align: right;\">\n",
       "      <th></th>\n",
       "      <th>student_id</th>\n",
       "      <th>content</th>\n",
       "      <th>wording</th>\n",
       "    </tr>\n",
       "  </thead>\n",
       "  <tbody>\n",
       "    <tr>\n",
       "      <th>0</th>\n",
       "      <td>000000ffffff</td>\n",
       "      <td>4.692362</td>\n",
       "      <td>3.003592</td>\n",
       "    </tr>\n",
       "    <tr>\n",
       "      <th>1</th>\n",
       "      <td>222222cccccc</td>\n",
       "      <td>4.673716</td>\n",
       "      <td>2.991418</td>\n",
       "    </tr>\n",
       "    <tr>\n",
       "      <th>2</th>\n",
       "      <td>111111eeeeee</td>\n",
       "      <td>4.624762</td>\n",
       "      <td>2.959456</td>\n",
       "    </tr>\n",
       "    <tr>\n",
       "      <th>3</th>\n",
       "      <td>333333dddddd</td>\n",
       "      <td>4.633610</td>\n",
       "      <td>2.965233</td>\n",
       "    </tr>\n",
       "  </tbody>\n",
       "</table>\n",
       "</div>"
      ],
      "text/plain": [
       "     student_id   content   wording\n",
       "0  000000ffffff  4.692362  3.003592\n",
       "1  222222cccccc  4.673716  2.991418\n",
       "2  111111eeeeee  4.624762  2.959456\n",
       "3  333333dddddd  4.633610  2.965233"
      ]
     },
     "metadata": {},
     "output_type": "display_data"
    }
   ],
   "source": [
    "df_test[['student_id', 'content', 'wording']].to_csv('submission.csv',index=False)\n",
    "display(pd.read_csv('submission.csv'))"
   ]
  },
  {
   "cell_type": "code",
   "execution_count": null,
   "id": "bd07d90b",
   "metadata": {
    "papermill": {
     "duration": 0.009273,
     "end_time": "2023-08-06T11:03:27.382401",
     "exception": false,
     "start_time": "2023-08-06T11:03:27.373128",
     "status": "completed"
    },
    "tags": []
   },
   "outputs": [],
   "source": []
  }
 ],
 "metadata": {
  "kernelspec": {
   "display_name": "Python 3",
   "language": "python",
   "name": "python3"
  },
  "language_info": {
   "codemirror_mode": {
    "name": "ipython",
    "version": 3
   },
   "file_extension": ".py",
   "mimetype": "text/x-python",
   "name": "python",
   "nbconvert_exporter": "python",
   "pygments_lexer": "ipython3",
   "version": "3.10.12"
  },
  "papermill": {
   "default_parameters": {},
   "duration": 219.190829,
   "end_time": "2023-08-06T11:03:30.284688",
   "environment_variables": {},
   "exception": null,
   "input_path": "__notebook__.ipynb",
   "output_path": "__notebook__.ipynb",
   "parameters": {},
   "start_time": "2023-08-06T10:59:51.093859",
   "version": "2.4.0"
  }
 },
 "nbformat": 4,
 "nbformat_minor": 5
}
