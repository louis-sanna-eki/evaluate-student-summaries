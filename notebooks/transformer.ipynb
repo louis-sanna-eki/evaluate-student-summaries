{
 "cells": [
  {
   "cell_type": "markdown",
   "id": "5500c3a6",
   "metadata": {
    "_cell_guid": "b1076dfc-b9ad-4769-8c92-a6c4dae69d19",
    "_uuid": "8f2839f25d086af736a60e9eeb907d3b93b6e0e5",
    "execution": {
     "iopub.execute_input": "2023-07-17T06:42:43.814252Z",
     "iopub.status.busy": "2023-07-17T06:42:43.813771Z",
     "iopub.status.idle": "2023-07-17T06:42:43.820131Z",
     "shell.execute_reply": "2023-07-17T06:42:43.818807Z",
     "shell.execute_reply.started": "2023-07-17T06:42:43.814215Z"
    },
    "papermill": {
     "duration": 0.00943,
     "end_time": "2023-08-17T14:33:23.439670",
     "exception": false,
     "start_time": "2023-08-17T14:33:23.430240",
     "status": "completed"
    },
    "tags": []
   },
   "source": [
    "## Setup"
   ]
  },
  {
   "cell_type": "code",
   "execution_count": 1,
   "id": "0b1fa18d",
   "metadata": {
    "execution": {
     "iopub.execute_input": "2023-08-17T14:33:23.460688Z",
     "iopub.status.busy": "2023-08-17T14:33:23.459856Z",
     "iopub.status.idle": "2023-08-17T14:33:23.473242Z",
     "shell.execute_reply": "2023-08-17T14:33:23.472295Z"
    },
    "papermill": {
     "duration": 0.026521,
     "end_time": "2023-08-17T14:33:23.475363",
     "exception": false,
     "start_time": "2023-08-17T14:33:23.448842",
     "status": "completed"
    },
    "tags": []
   },
   "outputs": [],
   "source": [
    "import numpy as np\n",
    "import pandas as pd"
   ]
  },
  {
   "cell_type": "code",
   "execution_count": 2,
   "id": "6ebb2cdb",
   "metadata": {
    "execution": {
     "iopub.execute_input": "2023-08-17T14:33:23.494884Z",
     "iopub.status.busy": "2023-08-17T14:33:23.493987Z",
     "iopub.status.idle": "2023-08-17T14:33:23.502632Z",
     "shell.execute_reply": "2023-08-17T14:33:23.501704Z"
    },
    "papermill": {
     "duration": 0.020665,
     "end_time": "2023-08-17T14:33:23.504823",
     "exception": false,
     "start_time": "2023-08-17T14:33:23.484158",
     "status": "completed"
    },
    "tags": []
   },
   "outputs": [
    {
     "data": {
      "text/plain": [
       "False"
      ]
     },
     "execution_count": 2,
     "metadata": {},
     "output_type": "execute_result"
    }
   ],
   "source": [
    "import os\n",
    "is_kaggle = 'KAGGLE_KERNEL_RUN_TYPE' in os.environ\n",
    "is_colab = 'COLAB_JUPYTER_TOKEN' in os.environ\n",
    "is_interactive = os.environ.get('KAGGLE_KERNEL_RUN_TYPE', 'Unknown') == 'Interactive' or is_colab\n",
    "\n",
    "is_interactive"
   ]
  },
  {
   "cell_type": "code",
   "execution_count": 3,
   "id": "b1f2e114",
   "metadata": {
    "execution": {
     "iopub.execute_input": "2023-08-17T14:33:23.524790Z",
     "iopub.status.busy": "2023-08-17T14:33:23.524032Z",
     "iopub.status.idle": "2023-08-17T14:33:23.530002Z",
     "shell.execute_reply": "2023-08-17T14:33:23.529066Z"
    },
    "papermill": {
     "duration": 0.017658,
     "end_time": "2023-08-17T14:33:23.531944",
     "exception": false,
     "start_time": "2023-08-17T14:33:23.514286",
     "status": "completed"
    },
    "tags": []
   },
   "outputs": [],
   "source": [
    "libraries = [\n",
    "    'functools',\n",
    "    'gc',\n",
    "    'gzip',\n",
    "    'hashlib',\n",
    "    'matplotlib',\n",
    "    'numpy',\n",
    "    'os',\n",
    "    'pandas',\n",
    "    'scikit-learn',\n",
    "    'torch',\n",
    "    'tqdm',\n",
    "    'transformers'\n",
    "]\n",
    "\n",
    "if is_colab:\n",
    "    import subprocess\n",
    "    for lib in libraries:\n",
    "        subprocess.run([\"pip\", \"install\", lib])\n",
    "    from google.colab import drive\n",
    "    drive.mount('/content/drive')\n",
    "    "
   ]
  },
  {
   "cell_type": "code",
   "execution_count": 4,
   "id": "5687a953",
   "metadata": {
    "execution": {
     "iopub.execute_input": "2023-08-17T14:33:23.551609Z",
     "iopub.status.busy": "2023-08-17T14:33:23.550069Z",
     "iopub.status.idle": "2023-08-17T14:33:27.680008Z",
     "shell.execute_reply": "2023-08-17T14:33:27.678856Z"
    },
    "papermill": {
     "duration": 4.141785,
     "end_time": "2023-08-17T14:33:27.682512",
     "exception": false,
     "start_time": "2023-08-17T14:33:23.540727",
     "status": "completed"
    },
    "tags": []
   },
   "outputs": [],
   "source": [
    "import random\n",
    "import numpy as np\n",
    "import torch\n",
    "\n",
    "def set_seed(seed_value):\n",
    "    \"\"\"Set seed for reproducibility.\"\"\"\n",
    "    random.seed(seed_value)            # Set seed for python's built-in random\n",
    "    np.random.seed(seed_value)         # Set seed for numpy\n",
    "    torch.manual_seed(seed_value)      # Set seed for pytorch\n",
    "\n",
    "    if torch.cuda.is_available():\n",
    "        torch.cuda.manual_seed(seed_value)\n",
    "        torch.cuda.manual_seed_all(seed_value)\n",
    "        torch.backends.cudnn.deterministic = True\n",
    "        torch.backends.cudnn.benchmark = False\n",
    "\n",
    "set_seed(42)  # Use any number as seed\n"
   ]
  },
  {
   "cell_type": "markdown",
   "id": "6263a77d",
   "metadata": {
    "papermill": {
     "duration": 0.008492,
     "end_time": "2023-08-17T14:33:27.700873",
     "exception": false,
     "start_time": "2023-08-17T14:33:27.692381",
     "status": "completed"
    },
    "tags": []
   },
   "source": [
    "## Load Data"
   ]
  },
  {
   "cell_type": "code",
   "execution_count": 5,
   "id": "df53320d",
   "metadata": {
    "execution": {
     "iopub.execute_input": "2023-08-17T14:33:27.720281Z",
     "iopub.status.busy": "2023-08-17T14:33:27.719221Z",
     "iopub.status.idle": "2023-08-17T14:33:27.925179Z",
     "shell.execute_reply": "2023-08-17T14:33:27.924102Z"
    },
    "papermill": {
     "duration": 0.218743,
     "end_time": "2023-08-17T14:33:27.928047",
     "exception": false,
     "start_time": "2023-08-17T14:33:27.709304",
     "status": "completed"
    },
    "tags": []
   },
   "outputs": [],
   "source": [
    "def load_data_in_kaggle():\n",
    "    df_train_prompts = pd.read_csv('/kaggle/input/commonlit-evaluate-student-summaries/prompts_train.csv')\n",
    "    df_train_summaries = pd.read_csv('/kaggle/input/commonlit-evaluate-student-summaries/summaries_train.csv')\n",
    "    df_test_prompts = pd.read_csv('/kaggle/input/commonlit-evaluate-student-summaries/prompts_test.csv')\n",
    "    df_test_summaries = pd.read_csv('/kaggle/input/commonlit-evaluate-student-summaries/summaries_test.csv')\n",
    "    return df_train_prompts, df_train_summaries,df_test_prompts, df_test_summaries\n",
    "\n",
    "def load_data_in_colab():\n",
    "    base_path = \"/content/drive/MyDrive/kaggle/commonlit-evaluate-student-summaries/\"\n",
    "    df_train_prompts = pd.read_csv(base_path + 'prompts_train.csv')\n",
    "    df_train_summaries = pd.read_csv(base_path + 'summaries_train.csv')\n",
    "    df_test_prompts = pd.read_csv(base_path + 'prompts_test.csv')\n",
    "    df_test_summaries = pd.read_csv(base_path + 'summaries_test.csv')\n",
    "    return df_train_prompts, df_train_summaries, df_test_prompts, df_test_summaries\n",
    "\n",
    "\n",
    "def load_data():\n",
    "    if is_kaggle:\n",
    "        return load_data_in_kaggle()\n",
    "    if is_colab:\n",
    "        return load_data_in_colab()\n",
    "\n",
    "\n",
    "df_train_prompts, df_train_summaries,df_test_prompts, df_test_summaries = load_data()"
   ]
  },
  {
   "cell_type": "markdown",
   "id": "36e656a3",
   "metadata": {
    "execution": {
     "iopub.execute_input": "2023-07-17T06:42:44.348496Z",
     "iopub.status.busy": "2023-07-17T06:42:44.348095Z",
     "iopub.status.idle": "2023-07-17T06:42:44.376198Z",
     "shell.execute_reply": "2023-07-17T06:42:44.375008Z",
     "shell.execute_reply.started": "2023-07-17T06:42:44.348466Z"
    },
    "papermill": {
     "duration": 0.008484,
     "end_time": "2023-08-17T14:33:27.945656",
     "exception": false,
     "start_time": "2023-08-17T14:33:27.937172",
     "status": "completed"
    },
    "tags": []
   },
   "source": [
    "## Merge set"
   ]
  },
  {
   "cell_type": "code",
   "execution_count": 6,
   "id": "dc3b6062",
   "metadata": {
    "execution": {
     "iopub.execute_input": "2023-08-17T14:33:27.965483Z",
     "iopub.status.busy": "2023-08-17T14:33:27.963923Z",
     "iopub.status.idle": "2023-08-17T14:33:28.006650Z",
     "shell.execute_reply": "2023-08-17T14:33:28.005463Z"
    },
    "papermill": {
     "duration": 0.055469,
     "end_time": "2023-08-17T14:33:28.009734",
     "exception": false,
     "start_time": "2023-08-17T14:33:27.954265",
     "status": "completed"
    },
    "tags": []
   },
   "outputs": [
    {
     "name": "stdout",
     "output_type": "stream",
     "text": [
      "df_train.shape: (7165, 8)\n",
      "df_test.shape: (4, 8)\n"
     ]
    },
    {
     "data": {
      "text/html": [
       "<div>\n",
       "<style scoped>\n",
       "    .dataframe tbody tr th:only-of-type {\n",
       "        vertical-align: middle;\n",
       "    }\n",
       "\n",
       "    .dataframe tbody tr th {\n",
       "        vertical-align: top;\n",
       "    }\n",
       "\n",
       "    .dataframe thead th {\n",
       "        text-align: right;\n",
       "    }\n",
       "</style>\n",
       "<table border=\"1\" class=\"dataframe\">\n",
       "  <thead>\n",
       "    <tr style=\"text-align: right;\">\n",
       "      <th></th>\n",
       "      <th>student_id</th>\n",
       "      <th>prompt_id</th>\n",
       "      <th>text</th>\n",
       "      <th>content</th>\n",
       "      <th>wording</th>\n",
       "      <th>prompt_question</th>\n",
       "      <th>prompt_title</th>\n",
       "      <th>prompt_text</th>\n",
       "    </tr>\n",
       "  </thead>\n",
       "  <tbody>\n",
       "    <tr>\n",
       "      <th>0</th>\n",
       "      <td>000e8c3c7ddb</td>\n",
       "      <td>814d6b</td>\n",
       "      <td>The third wave was an experimentto see how peo...</td>\n",
       "      <td>0.205683</td>\n",
       "      <td>0.380538</td>\n",
       "      <td>Summarize how the Third Wave developed over su...</td>\n",
       "      <td>The Third Wave</td>\n",
       "      <td>Background \\r\\nThe Third Wave experiment took ...</td>\n",
       "    </tr>\n",
       "    <tr>\n",
       "      <th>1</th>\n",
       "      <td>0070c9e7af47</td>\n",
       "      <td>814d6b</td>\n",
       "      <td>The Third Wave developed  rapidly because the ...</td>\n",
       "      <td>3.272894</td>\n",
       "      <td>3.219757</td>\n",
       "      <td>Summarize how the Third Wave developed over su...</td>\n",
       "      <td>The Third Wave</td>\n",
       "      <td>Background \\r\\nThe Third Wave experiment took ...</td>\n",
       "    </tr>\n",
       "    <tr>\n",
       "      <th>2</th>\n",
       "      <td>0095993991fe</td>\n",
       "      <td>814d6b</td>\n",
       "      <td>The third wave only started as an experiment w...</td>\n",
       "      <td>0.205683</td>\n",
       "      <td>0.380538</td>\n",
       "      <td>Summarize how the Third Wave developed over su...</td>\n",
       "      <td>The Third Wave</td>\n",
       "      <td>Background \\r\\nThe Third Wave experiment took ...</td>\n",
       "    </tr>\n",
       "    <tr>\n",
       "      <th>3</th>\n",
       "      <td>00c20c6ddd23</td>\n",
       "      <td>814d6b</td>\n",
       "      <td>The experimen was orginally about how even whe...</td>\n",
       "      <td>0.567975</td>\n",
       "      <td>0.969062</td>\n",
       "      <td>Summarize how the Third Wave developed over su...</td>\n",
       "      <td>The Third Wave</td>\n",
       "      <td>Background \\r\\nThe Third Wave experiment took ...</td>\n",
       "    </tr>\n",
       "    <tr>\n",
       "      <th>4</th>\n",
       "      <td>00d40ad10dc9</td>\n",
       "      <td>814d6b</td>\n",
       "      <td>The third wave developed so quickly due to the...</td>\n",
       "      <td>-0.910596</td>\n",
       "      <td>-0.081769</td>\n",
       "      <td>Summarize how the Third Wave developed over su...</td>\n",
       "      <td>The Third Wave</td>\n",
       "      <td>Background \\r\\nThe Third Wave experiment took ...</td>\n",
       "    </tr>\n",
       "  </tbody>\n",
       "</table>\n",
       "</div>"
      ],
      "text/plain": [
       "     student_id prompt_id                                               text  \\\n",
       "0  000e8c3c7ddb    814d6b  The third wave was an experimentto see how peo...   \n",
       "1  0070c9e7af47    814d6b  The Third Wave developed  rapidly because the ...   \n",
       "2  0095993991fe    814d6b  The third wave only started as an experiment w...   \n",
       "3  00c20c6ddd23    814d6b  The experimen was orginally about how even whe...   \n",
       "4  00d40ad10dc9    814d6b  The third wave developed so quickly due to the...   \n",
       "\n",
       "    content   wording                                    prompt_question  \\\n",
       "0  0.205683  0.380538  Summarize how the Third Wave developed over su...   \n",
       "1  3.272894  3.219757  Summarize how the Third Wave developed over su...   \n",
       "2  0.205683  0.380538  Summarize how the Third Wave developed over su...   \n",
       "3  0.567975  0.969062  Summarize how the Third Wave developed over su...   \n",
       "4 -0.910596 -0.081769  Summarize how the Third Wave developed over su...   \n",
       "\n",
       "     prompt_title                                        prompt_text  \n",
       "0  The Third Wave  Background \\r\\nThe Third Wave experiment took ...  \n",
       "1  The Third Wave  Background \\r\\nThe Third Wave experiment took ...  \n",
       "2  The Third Wave  Background \\r\\nThe Third Wave experiment took ...  \n",
       "3  The Third Wave  Background \\r\\nThe Third Wave experiment took ...  \n",
       "4  The Third Wave  Background \\r\\nThe Third Wave experiment took ...  "
      ]
     },
     "execution_count": 6,
     "metadata": {},
     "output_type": "execute_result"
    }
   ],
   "source": [
    "df_train = df_train_summaries.merge(df_train_prompts, on='prompt_id')\n",
    "df_test = df_test_summaries.merge(df_test_prompts, on='prompt_id')\n",
    "\n",
    "df_test[\"wording\"] = 0.0\n",
    "df_test[\"content\"] = 0.0\n",
    "\n",
    "print(f\"df_train.shape: {df_train.shape}\")\n",
    "print(f\"df_test.shape: {df_test.shape}\")\n",
    "\n",
    "df_train.head()"
   ]
  },
  {
   "cell_type": "markdown",
   "id": "ce761fd0",
   "metadata": {
    "papermill": {
     "duration": 0.008487,
     "end_time": "2023-08-17T14:33:28.027856",
     "exception": false,
     "start_time": "2023-08-17T14:33:28.019369",
     "status": "completed"
    },
    "tags": []
   },
   "source": [
    "## Features"
   ]
  },
  {
   "cell_type": "code",
   "execution_count": 7,
   "id": "ccda4514",
   "metadata": {
    "execution": {
     "iopub.execute_input": "2023-08-17T14:33:28.046499Z",
     "iopub.status.busy": "2023-08-17T14:33:28.046210Z",
     "iopub.status.idle": "2023-08-17T14:33:34.736962Z",
     "shell.execute_reply": "2023-08-17T14:33:34.735852Z"
    },
    "papermill": {
     "duration": 6.70329,
     "end_time": "2023-08-17T14:33:34.739711",
     "exception": false,
     "start_time": "2023-08-17T14:33:28.036421",
     "status": "completed"
    },
    "tags": []
   },
   "outputs": [],
   "source": [
    "# Define a separator token for BERT\n",
    "separator_token = ' [SEP] '\n",
    "\n",
    "# Create the \"full_text\" feature by joining \"prompt_text\" and \"text\"\n",
    "df_train['full_text'] = df_train['text'] + separator_token + df_train['prompt_question']\n",
    "df_test['full_text'] = df_test['text'] + separator_token + df_test['prompt_question']\n",
    "\n",
    "df_train['word_count'] = df_train['text'].apply(lambda x: len(str(x).split()))\n",
    "df_test['word_count'] = df_test['text'].apply(lambda x: len(str(x).split()))\n",
    "\n",
    "import gzip\n",
    "\n",
    "def calculate_compressed_size(text):\n",
    "    text_bytes = text.encode('utf-8')\n",
    "    compressed_bytes = gzip.compress(text_bytes)\n",
    "    return len(compressed_bytes)\n",
    "\n",
    "df_train['lexical_similarity'] = df_train.apply(\n",
    "    lambda row: 1 - calculate_compressed_size(row['text'] + row['prompt_text']) / (calculate_compressed_size(row['text']) + calculate_compressed_size(row['prompt_text'])),\n",
    "    axis=1\n",
    ")\n",
    "df_test['lexical_similarity'] = df_train.apply(\n",
    "    lambda row: 1 - calculate_compressed_size(row['text'] + row['prompt_text']) / (calculate_compressed_size(row['text']) + calculate_compressed_size(row['prompt_text'])),\n",
    "    axis=1\n",
    ")"
   ]
  },
  {
   "cell_type": "code",
   "execution_count": 8,
   "id": "50f8787c",
   "metadata": {
    "execution": {
     "iopub.execute_input": "2023-08-17T14:33:34.759414Z",
     "iopub.status.busy": "2023-08-17T14:33:34.759110Z",
     "iopub.status.idle": "2023-08-17T14:33:34.781731Z",
     "shell.execute_reply": "2023-08-17T14:33:34.780623Z"
    },
    "papermill": {
     "duration": 0.035121,
     "end_time": "2023-08-17T14:33:34.783835",
     "exception": false,
     "start_time": "2023-08-17T14:33:34.748714",
     "status": "completed"
    },
    "tags": []
   },
   "outputs": [
    {
     "name": "stdout",
     "output_type": "stream",
     "text": [
      "There are 2 GPU(s) available.\n",
      "We will use the GPUs: [0, 1]\n"
     ]
    }
   ],
   "source": [
    "import torch\n",
    "\n",
    "if torch.cuda.is_available():    \n",
    "    n_gpu = torch.cuda.device_count()\n",
    "    device_ids = list(range(n_gpu))\n",
    "    device = torch.device(f'cuda:{device_ids[0]}')  # Choose the first device\n",
    "    print('There are %d GPU(s) available.' % n_gpu)\n",
    "    print('We will use the GPUs:', device_ids)\n",
    "else:\n",
    "    print('No GPU available, using the CPU instead.')\n",
    "    device = torch.device(\"cpu\")\n",
    "    device_ids = None"
   ]
  },
  {
   "cell_type": "code",
   "execution_count": 9,
   "id": "acc23ee7",
   "metadata": {
    "execution": {
     "iopub.execute_input": "2023-08-17T14:33:34.803144Z",
     "iopub.status.busy": "2023-08-17T14:33:34.802620Z",
     "iopub.status.idle": "2023-08-17T14:33:36.786555Z",
     "shell.execute_reply": "2023-08-17T14:33:36.785573Z"
    },
    "papermill": {
     "duration": 1.996552,
     "end_time": "2023-08-17T14:33:36.789024",
     "exception": false,
     "start_time": "2023-08-17T14:33:34.792472",
     "status": "completed"
    },
    "tags": []
   },
   "outputs": [],
   "source": [
    "from transformers import AutoModel, AutoTokenizer, AutoConfig, AutoModelForSequenceClassification\n",
    "import torch\n",
    "\n",
    "def load_pretrained_on_kaggle():\n",
    "    MODEL_PATH = '/kaggle/input/debertav3base'\n",
    "\n",
    "    # Load tokenizer and model\n",
    "    tokenizer = AutoTokenizer.from_pretrained(MODEL_PATH)\n",
    "    model = AutoModel.from_pretrained(MODEL_PATH)\n",
    "\n",
    "    return model, tokenizer\n",
    "\n",
    "\n",
    "def load_pretrained_on_colab():\n",
    "    MODEL_PATH = '/content/drive/MyDrive/kaggle/debertav3base'\n",
    "\n",
    "    # Load tokenizer and model\n",
    "    tokenizer = AutoTokenizer.from_pretrained(MODEL_PATH)\n",
    "    model = AutoModel.from_pretrained(MODEL_PATH)\n",
    "\n",
    "    return model, tokenizer\n",
    "\n",
    "\n",
    "def load_pretrained():\n",
    "    if is_kaggle:\n",
    "        return load_pretrained_on_kaggle()\n",
    "    if is_colab:\n",
    "        return load_pretrained_on_colab()"
   ]
  },
  {
   "cell_type": "code",
   "execution_count": 10,
   "id": "d17e4617",
   "metadata": {
    "execution": {
     "iopub.execute_input": "2023-08-17T14:33:36.808650Z",
     "iopub.status.busy": "2023-08-17T14:33:36.808161Z",
     "iopub.status.idle": "2023-08-17T14:42:11.802626Z",
     "shell.execute_reply": "2023-08-17T14:42:11.799190Z"
    },
    "papermill": {
     "duration": 515.017434,
     "end_time": "2023-08-17T14:42:11.815596",
     "exception": false,
     "start_time": "2023-08-17T14:33:36.798162",
     "status": "completed"
    },
    "tags": []
   },
   "outputs": [
    {
     "name": "stderr",
     "output_type": "stream",
     "text": [
      "/opt/conda/lib/python3.10/site-packages/scipy/__init__.py:146: UserWarning: A NumPy version >=1.16.5 and <1.23.0 is required for this version of SciPy (detected version 1.23.5\n",
      "  warnings.warn(f\"A NumPy version >={np_minversion} and <{np_maxversion}\"\n",
      "Special tokens have been added in the vocabulary, make sure the associated word embeddings are fine-tuned or trained.\n",
      "/opt/conda/lib/python3.10/site-packages/transformers/convert_slow_tokenizer.py:454: UserWarning: The sentencepiece tokenizer that you are converting to a fast tokenizer uses the byte fallback option which is not implemented in the fast tokenizers. In practice this means that the fast version of the tokenizer can produce unknown tokens whereas the sentencepiece version would have converted these unknown tokens into a sequence of byte tokens matching the original piece of text.\n",
      "  warnings.warn(\n",
      "Special tokens have been added in the vocabulary, make sure the associated word embeddings are fine-tuned or trained.\n",
      "/opt/conda/lib/python3.10/site-packages/tensorflow_io/python/ops/__init__.py:98: UserWarning: unable to load libtensorflow_io_plugins.so: unable to open file: libtensorflow_io_plugins.so, from paths: ['/opt/conda/lib/python3.10/site-packages/tensorflow_io/python/ops/libtensorflow_io_plugins.so']\n",
      "caused by: ['/opt/conda/lib/python3.10/site-packages/tensorflow_io/python/ops/libtensorflow_io_plugins.so: undefined symbol: _ZN3tsl6StatusC1EN10tensorflow5error4CodeESt17basic_string_viewIcSt11char_traitsIcEENS_14SourceLocationE']\n",
      "  warnings.warn(f\"unable to load libtensorflow_io_plugins.so: {e}\")\n",
      "/opt/conda/lib/python3.10/site-packages/tensorflow_io/python/ops/__init__.py:104: UserWarning: file system plugins are not loaded: unable to open file: libtensorflow_io.so, from paths: ['/opt/conda/lib/python3.10/site-packages/tensorflow_io/python/ops/libtensorflow_io.so']\n",
      "caused by: ['/opt/conda/lib/python3.10/site-packages/tensorflow_io/python/ops/libtensorflow_io.so: undefined symbol: _ZTVN10tensorflow13GcsFileSystemE']\n",
      "  warnings.warn(f\"file system plugins are not loaded: {e}\")\n",
      "Some weights of the model checkpoint at /kaggle/input/debertav3base were not used when initializing DebertaV2Model: ['mask_predictions.LayerNorm.bias', 'mask_predictions.dense.weight', 'mask_predictions.LayerNorm.weight', 'mask_predictions.dense.bias', 'lm_predictions.lm_head.LayerNorm.bias', 'mask_predictions.classifier.weight', 'lm_predictions.lm_head.dense.bias', 'lm_predictions.lm_head.bias', 'lm_predictions.lm_head.dense.weight', 'mask_predictions.classifier.bias', 'lm_predictions.lm_head.LayerNorm.weight']\n",
      "- This IS expected if you are initializing DebertaV2Model from the checkpoint of a model trained on another task or with another architecture (e.g. initializing a BertForSequenceClassification model from a BertForPreTraining model).\n",
      "- This IS NOT expected if you are initializing DebertaV2Model from the checkpoint of a model that you expect to be exactly identical (initializing a BertForSequenceClassification model from a BertForSequenceClassification model).\n"
     ]
    },
    {
     "name": "stdout",
     "output_type": "stream",
     "text": [
      "Done!\n"
     ]
    }
   ],
   "source": [
    "import pandas as pd\n",
    "import torch\n",
    "from sklearn.metrics.pairwise import cosine_similarity\n",
    "import hashlib\n",
    "from functools import lru_cache\n",
    "\n",
    "semantic_model, tokenizer = load_pretrained()\n",
    "semantic_model.to(device)\n",
    "\n",
    "if device_ids:\n",
    "    semantic_model = torch.nn.DataParallel(semantic_model, device_ids=device_ids) # Wrap the model with DataParallel\n",
    "\n",
    "maxsize = None if is_interactive else 128    \n",
    "@lru_cache(maxsize=maxsize)\n",
    "def get_embedding(text):\n",
    "    inputs = tokenizer(text, max_length=512, truncation=True, padding='max_length', return_tensors='pt')\n",
    "\n",
    "    if device_ids:\n",
    "        inputs = {name: tensor.to(device) for name, tensor in inputs.items()}  # move inputs to GPU\n",
    "    with torch.no_grad():\n",
    "        outputs = semantic_model(**inputs)\n",
    "    \n",
    "    embedding = outputs.last_hidden_state.mean(dim=1).cpu().numpy()\n",
    "    return embedding\n",
    "\n",
    "# Compute embeddings and similarity score\n",
    "def get_similarity(row):\n",
    "    prompt_embedding = get_embedding(row['prompt_text'])\n",
    "    text_embedding = get_embedding(row['text'])\n",
    "    similarity = cosine_similarity(prompt_embedding, text_embedding)\n",
    "    return similarity[0][0]\n",
    "\n",
    "# Add similarity score to DataFrame\n",
    "df_train['semantic_similarity'] = df_train.apply(get_similarity, axis=1)\n",
    "df_test['semantic_similarity'] = df_test.apply(get_similarity, axis=1)\n",
    "\n",
    "print(\"Done!\")"
   ]
  },
  {
   "cell_type": "code",
   "execution_count": 11,
   "id": "fe147440",
   "metadata": {
    "execution": {
     "iopub.execute_input": "2023-08-17T14:42:11.840598Z",
     "iopub.status.busy": "2023-08-17T14:42:11.840217Z",
     "iopub.status.idle": "2023-08-17T14:42:12.241024Z",
     "shell.execute_reply": "2023-08-17T14:42:12.239906Z"
    },
    "papermill": {
     "duration": 0.416477,
     "end_time": "2023-08-17T14:42:12.243697",
     "exception": false,
     "start_time": "2023-08-17T14:42:11.827220",
     "status": "completed"
    },
    "tags": []
   },
   "outputs": [
    {
     "data": {
      "text/plain": [
       "0"
      ]
     },
     "execution_count": 11,
     "metadata": {},
     "output_type": "execute_result"
    }
   ],
   "source": [
    "import gc\n",
    "\n",
    "del semantic_model\n",
    "del tokenizer\n",
    "gc.collect()"
   ]
  },
  {
   "cell_type": "markdown",
   "id": "9d7d77ff",
   "metadata": {
    "papermill": {
     "duration": 0.010284,
     "end_time": "2023-08-17T14:42:12.264593",
     "exception": false,
     "start_time": "2023-08-17T14:42:12.254309",
     "status": "completed"
    },
    "tags": []
   },
   "source": [
    "## Scale"
   ]
  },
  {
   "cell_type": "code",
   "execution_count": 12,
   "id": "96e04d79",
   "metadata": {
    "execution": {
     "iopub.execute_input": "2023-08-17T14:42:12.287488Z",
     "iopub.status.busy": "2023-08-17T14:42:12.287115Z",
     "iopub.status.idle": "2023-08-17T14:42:12.320927Z",
     "shell.execute_reply": "2023-08-17T14:42:12.319573Z"
    },
    "papermill": {
     "duration": 0.048101,
     "end_time": "2023-08-17T14:42:12.323311",
     "exception": false,
     "start_time": "2023-08-17T14:42:12.275210",
     "status": "completed"
    },
    "tags": []
   },
   "outputs": [],
   "source": [
    "import pandas as pd\n",
    "from sklearn.preprocessing import StandardScaler\n",
    "from sklearn.model_selection import train_test_split\n",
    "\n",
    "\n",
    "# Features you want to scale\n",
    "features_to_scale = [\"word_count\", \"semantic_similarity\", \"lexical_similarity\"]\n",
    "\n",
    "# Initialize the scaler\n",
    "scaler = StandardScaler()\n",
    "\n",
    "# Fit the scaler only on the training data for the selected features\n",
    "df_train[features_to_scale] = scaler.fit_transform(df_train[features_to_scale])\n",
    "\n",
    "# Transform the test data using the same scaler for the selected features\n",
    "df_test[features_to_scale] = scaler.transform(df_test[features_to_scale])\n"
   ]
  },
  {
   "cell_type": "markdown",
   "id": "f6ec1996",
   "metadata": {
    "papermill": {
     "duration": 0.010263,
     "end_time": "2023-08-17T14:42:12.344134",
     "exception": false,
     "start_time": "2023-08-17T14:42:12.333871",
     "status": "completed"
    },
    "tags": []
   },
   "source": [
    "## Cross Validation"
   ]
  },
  {
   "cell_type": "code",
   "execution_count": 13,
   "id": "3cee70d4",
   "metadata": {
    "execution": {
     "iopub.execute_input": "2023-08-17T14:42:12.367564Z",
     "iopub.status.busy": "2023-08-17T14:42:12.367206Z",
     "iopub.status.idle": "2023-08-17T14:42:12.421268Z",
     "shell.execute_reply": "2023-08-17T14:42:12.420193Z"
    },
    "papermill": {
     "duration": 0.068991,
     "end_time": "2023-08-17T14:42:12.424046",
     "exception": false,
     "start_time": "2023-08-17T14:42:12.355055",
     "status": "completed"
    },
    "tags": []
   },
   "outputs": [],
   "source": [
    "from sklearn.model_selection import KFold\n",
    "import pandas as pd\n",
    "\n",
    "def split_dataframe_by_prompt(df, n_splits=4):\n",
    "    kf = KFold(n_splits=n_splits, shuffle=True, random_state=42)\n",
    "\n",
    "    combined_train_dfs = []\n",
    "    combined_val_dfs = []\n",
    "\n",
    "    unique_prompts = df['prompt_id'].unique()\n",
    "\n",
    "    for train_prompt_ids, val_prompt_ids in kf.split(unique_prompts):\n",
    "        train_dataframes = [df[df['prompt_id'] == unique_prompts[id]] for id in train_prompt_ids]\n",
    "        val_dataframes = [df[df['prompt_id'] == unique_prompts[id]] for id in val_prompt_ids]\n",
    "\n",
    "        combined_train_dfs.append(pd.concat(train_dataframes))\n",
    "        combined_val_dfs.append(pd.concat(val_dataframes))\n",
    "\n",
    "    return combined_train_dfs, combined_val_dfs\n",
    "\n",
    "# Usage:\n",
    "train_4_fold_dfs, val_4_fold_dfs = split_dataframe_by_prompt(df_train)\n",
    "\n",
    "# To get the dataframes for a specific fold:\n",
    "fold_number = 1  # This can be 0, 1, 2, or 3\n",
    "df_4_fold_train = train_4_fold_dfs[fold_number]\n",
    "df_4_fold_val = val_4_fold_dfs[fold_number]\n",
    "df_val = df_4_fold_val"
   ]
  },
  {
   "cell_type": "markdown",
   "id": "2b727d53",
   "metadata": {
    "papermill": {
     "duration": 0.01051,
     "end_time": "2023-08-17T14:42:12.445386",
     "exception": false,
     "start_time": "2023-08-17T14:42:12.434876",
     "status": "completed"
    },
    "tags": []
   },
   "source": [
    "## Loss"
   ]
  },
  {
   "cell_type": "code",
   "execution_count": 14,
   "id": "0017d9e9",
   "metadata": {
    "execution": {
     "iopub.execute_input": "2023-08-17T14:42:12.468530Z",
     "iopub.status.busy": "2023-08-17T14:42:12.467428Z",
     "iopub.status.idle": "2023-08-17T14:42:12.474860Z",
     "shell.execute_reply": "2023-08-17T14:42:12.473850Z"
    },
    "papermill": {
     "duration": 0.021365,
     "end_time": "2023-08-17T14:42:12.477206",
     "exception": false,
     "start_time": "2023-08-17T14:42:12.455841",
     "status": "completed"
    },
    "tags": []
   },
   "outputs": [],
   "source": [
    "import numpy as np\n",
    "\n",
    "def compute_mcrmse(df):\n",
    "    def rmse(actual, predictions):\n",
    "        return np.sqrt(np.mean((actual - predictions)**2))\n",
    "\n",
    "    rmse_content = rmse(df['content'], df['predicted_content'])\n",
    "    rmse_wording = rmse(df['wording'], df['predicted_wording'])\n",
    "\n",
    "    mcrmse = np.mean([rmse_content, rmse_wording])\n",
    "    \n",
    "    return mcrmse, rmse_content, rmse_wording"
   ]
  },
  {
   "cell_type": "markdown",
   "id": "8917dfd7",
   "metadata": {
    "papermill": {
     "duration": 0.010144,
     "end_time": "2023-08-17T14:42:12.497764",
     "exception": false,
     "start_time": "2023-08-17T14:42:12.487620",
     "status": "completed"
    },
    "tags": []
   },
   "source": [
    "## Training"
   ]
  },
  {
   "cell_type": "code",
   "execution_count": 15,
   "id": "161a840b",
   "metadata": {
    "execution": {
     "iopub.execute_input": "2023-08-17T14:42:12.522109Z",
     "iopub.status.busy": "2023-08-17T14:42:12.520401Z",
     "iopub.status.idle": "2023-08-17T14:42:12.546110Z",
     "shell.execute_reply": "2023-08-17T14:42:12.545090Z"
    },
    "papermill": {
     "duration": 0.040275,
     "end_time": "2023-08-17T14:42:12.548489",
     "exception": false,
     "start_time": "2023-08-17T14:42:12.508214",
     "status": "completed"
    },
    "tags": []
   },
   "outputs": [],
   "source": [
    "import torch\n",
    "from torch import nn\n",
    "from torch.optim import AdamW\n",
    "from transformers import DistilBertTokenizer, DistilBertModel\n",
    "from torch.utils.data import Dataset, DataLoader\n",
    "\n",
    "class TextDataset(Dataset):\n",
    "    def __init__(self, df, tokenizer, max_length):\n",
    "        self.df = df\n",
    "        self.tokenizer = tokenizer\n",
    "        self.max_length = max_length\n",
    "\n",
    "    def __len__(self):\n",
    "        return len(self.df)\n",
    "\n",
    "    def __getitem__(self, index):\n",
    "        row = self.df.iloc[index]\n",
    "        text = row['full_text']\n",
    "        inputs = self.tokenizer.encode_plus(\n",
    "            text,\n",
    "            max_length=self.max_length,\n",
    "            padding='max_length',\n",
    "            truncation=True,\n",
    "            return_tensors='pt'\n",
    "        )\n",
    "        inputs['input_ids'] = inputs['input_ids'].squeeze()\n",
    "        inputs['attention_mask'] = inputs['attention_mask'].squeeze()\n",
    "        inputs['word_count'] = torch.tensor(row['word_count'], dtype=torch.float)  # Add word_count to inputs\n",
    "        inputs['lexical_similarity'] = torch.tensor(row['lexical_similarity'], dtype=torch.float)  # Add word_count to inputs\n",
    "        inputs['semantic_similarity'] = torch.tensor(row['semantic_similarity'], dtype=torch.float)  # Add semantic_similarity to inputs\n",
    "        return inputs, torch.tensor([row['content'], row['wording']], dtype=torch.float)\n",
    "\n",
    "class RegressionModel(nn.Module):\n",
    "    def __init__(self, base_model):\n",
    "        super().__init__()\n",
    "        self.base_model = base_model\n",
    "        # Safely retrieve the hidden size\n",
    "        embedding_size = getattr(base_model.config, 'hidden_size', None)\n",
    "        if embedding_size is None:\n",
    "            raise ValueError(f\"'hidden_size' not found in config of model {type(base_model)}\")\n",
    "        self.regressor = nn.Linear(embedding_size + 3, 2)  # + 3 for word_count, lexical_similarity, semantic_similarity\n",
    "\n",
    "    def forward(self, **inputs):\n",
    "        word_count = inputs.pop('word_count').unsqueeze(-1)  # Add an extra dimension\n",
    "        lexical_similarity = inputs.pop('lexical_similarity').unsqueeze(-1)  # Add lexical_similarity\n",
    "        semantic_similarity = inputs.pop('semantic_similarity').unsqueeze(-1)  # Add lexical_similarity\n",
    "        outputs = self.base_model(**inputs)\n",
    "        sentence_embedding = outputs.last_hidden_state.mean(dim=1)\n",
    "        combined_embedding = torch.cat((sentence_embedding, lexical_similarity, semantic_similarity, word_count), dim=1)\n",
    "        return self.regressor(combined_embedding)\n",
    "\n",
    "\n",
    "class MCRMSELoss(nn.Module):\n",
    "    def __init__(self):\n",
    "        super().__init__()\n",
    "        self.mse = nn.MSELoss(reduction='none')  # We will handle the mean computation manually\n",
    "\n",
    "    def forward(self, pred, target):\n",
    "        squared_errors = self.mse(pred, target)\n",
    "        rmse_per_column = torch.sqrt(torch.mean(squared_errors, dim=0))\n",
    "        mcrmse = torch.mean(rmse_per_column)\n",
    "        return mcrmse"
   ]
  },
  {
   "cell_type": "code",
   "execution_count": 16,
   "id": "a2ee666d",
   "metadata": {
    "execution": {
     "iopub.execute_input": "2023-08-17T14:42:12.571475Z",
     "iopub.status.busy": "2023-08-17T14:42:12.570681Z",
     "iopub.status.idle": "2023-08-17T14:42:12.581643Z",
     "shell.execute_reply": "2023-08-17T14:42:12.580513Z"
    },
    "papermill": {
     "duration": 0.024929,
     "end_time": "2023-08-17T14:42:12.583942",
     "exception": false,
     "start_time": "2023-08-17T14:42:12.559013",
     "status": "completed"
    },
    "tags": []
   },
   "outputs": [],
   "source": [
    "def predict_with_transformer(model, tokenizer, dataframe, batch_size=4):\n",
    "    \"\"\"Use the transformer model to make predictions in batches.\"\"\"\n",
    "    \n",
    "    # Helper function to batch data\n",
    "    def get_batched_data(data, start_idx, end_idx, dtype=torch.float, device=device):\n",
    "        return torch.tensor(data[start_idx:end_idx], dtype=dtype).to(device)\n",
    "    \n",
    "    # Set the model to evaluation mode\n",
    "    model.eval()\n",
    "    \n",
    "    texts = dataframe['full_text'].tolist()\n",
    "    columns_to_tensor = ['lexical_similarity', 'semantic_similarity', 'word_count']\n",
    "    total_samples = len(texts)\n",
    "\n",
    "    predicted_content = []\n",
    "    predicted_wording = []\n",
    "\n",
    "    for i in range(0, total_samples, batch_size):\n",
    "        inputs = tokenizer(texts[i:i+batch_size], truncation=True, padding=\"max_length\", return_tensors=\"pt\", max_length=512)\n",
    "        \n",
    "        # Convert columns to tensors and add to inputs\n",
    "        for col in columns_to_tensor:\n",
    "            inputs[col] = get_batched_data(dataframe[col].values, i, i+batch_size)\n",
    "        \n",
    "        # Send all inputs to device (e.g., GPU)\n",
    "        inputs = {k: v.to(device) for k, v in inputs.items()} \n",
    "\n",
    "        with torch.no_grad():\n",
    "            outputs = model(**inputs)\n",
    "        \n",
    "        # Append results to lists\n",
    "        predicted_content.extend(outputs[:, 0].cpu().numpy())\n",
    "        predicted_wording.extend(outputs[:, 1].cpu().numpy())\n",
    "\n",
    "    return predicted_content, predicted_wording\n"
   ]
  },
  {
   "cell_type": "code",
   "execution_count": 17,
   "id": "51d3fe8f",
   "metadata": {
    "execution": {
     "iopub.execute_input": "2023-08-17T14:42:12.606993Z",
     "iopub.status.busy": "2023-08-17T14:42:12.606238Z",
     "iopub.status.idle": "2023-08-17T15:12:49.599304Z",
     "shell.execute_reply": "2023-08-17T15:12:49.596749Z"
    },
    "papermill": {
     "duration": 1837.007401,
     "end_time": "2023-08-17T15:12:49.601799",
     "exception": false,
     "start_time": "2023-08-17T14:42:12.594398",
     "status": "completed"
    },
    "tags": []
   },
   "outputs": [
    {
     "name": "stderr",
     "output_type": "stream",
     "text": [
      "Special tokens have been added in the vocabulary, make sure the associated word embeddings are fine-tuned or trained.\n",
      "/opt/conda/lib/python3.10/site-packages/transformers/convert_slow_tokenizer.py:454: UserWarning: The sentencepiece tokenizer that you are converting to a fast tokenizer uses the byte fallback option which is not implemented in the fast tokenizers. In practice this means that the fast version of the tokenizer can produce unknown tokens whereas the sentencepiece version would have converted these unknown tokens into a sequence of byte tokens matching the original piece of text.\n",
      "  warnings.warn(\n",
      "Special tokens have been added in the vocabulary, make sure the associated word embeddings are fine-tuned or trained.\n",
      "Some weights of the model checkpoint at /kaggle/input/debertav3base were not used when initializing DebertaV2Model: ['mask_predictions.LayerNorm.bias', 'mask_predictions.dense.weight', 'mask_predictions.LayerNorm.weight', 'mask_predictions.dense.bias', 'lm_predictions.lm_head.LayerNorm.bias', 'mask_predictions.classifier.weight', 'lm_predictions.lm_head.dense.bias', 'lm_predictions.lm_head.bias', 'lm_predictions.lm_head.dense.weight', 'mask_predictions.classifier.bias', 'lm_predictions.lm_head.LayerNorm.weight']\n",
      "- This IS expected if you are initializing DebertaV2Model from the checkpoint of a model trained on another task or with another architecture (e.g. initializing a BertForSequenceClassification model from a BertForPreTraining model).\n",
      "- This IS NOT expected if you are initializing DebertaV2Model from the checkpoint of a model that you expect to be exactly identical (initializing a BertForSequenceClassification model from a BertForSequenceClassification model).\n"
     ]
    },
    {
     "name": "stdout",
     "output_type": "stream",
     "text": [
      "Let's use 2 GPUs!\n"
     ]
    },
    {
     "name": "stderr",
     "output_type": "stream",
     "text": [
      "Epoch 1/3, Loss: 0.4860: 100%|██████████| 448/448 [10:10<00:00,  1.36s/it]\n",
      "Epoch 2/3, Loss: 0.4313: 100%|██████████| 448/448 [10:10<00:00,  1.36s/it]\n",
      "Epoch 3/3, Loss: 0.4488: 100%|██████████| 448/448 [10:11<00:00,  1.36s/it]\n"
     ]
    }
   ],
   "source": [
    "import torch.optim as optim\n",
    "from tqdm import tqdm\n",
    "from torch.nn.utils import clip_grad_norm_\n",
    "\n",
    "DROPOUT = 0.0\n",
    "MAX_GRAD_NORM = 1.0\n",
    "WEIGHT_DECAY = 0.01\n",
    "\n",
    "def train_model(df_train, num_epochs=3):\n",
    "\n",
    "    # Load tokenizer and model\n",
    "    base_model, tokenizer = load_pretrained()\n",
    "    # Set dropout probability\n",
    "    base_model.config.hidden_dropout_prob = DROPOUT\n",
    "    base_model.config.attention_probs_dropout_prob = DROPOUT\n",
    "\n",
    "    # Create the regression model\n",
    "    model = RegressionModel(base_model)\n",
    "    if torch.cuda.device_count() > 1:\n",
    "        print(\"Let's use\", torch.cuda.device_count(), \"GPUs!\")\n",
    "        model = nn.DataParallel(model, device_ids=device_ids)  # Use all available GPUs\n",
    "    model.to(device)\n",
    "\n",
    "    # Prepare the data\n",
    "    dataset_train = TextDataset(df_train, tokenizer, max_length=512)\n",
    "    dataloader_train = DataLoader(dataset_train, batch_size=16, shuffle=True)\n",
    "\n",
    "    # Set up the optimizer and loss function\n",
    "    optimizer = optim.AdamW(model.parameters(), lr=2e-5, weight_decay=WEIGHT_DECAY)\n",
    "    scheduler = optim.lr_scheduler.StepLR(optimizer, step_size=1000, gamma=0.9)  # Reduces the LR every 1000 steps by a factor of 0.9\n",
    "    loss_func = MCRMSELoss()\n",
    "\n",
    "    # Initialize a list to record average losses over time\n",
    "    loss_history = []\n",
    "\n",
    "    # Training loop\n",
    "    running_loss = 0.0\n",
    "    for epoch in range(num_epochs):\n",
    "        model.train()\n",
    "        \n",
    "        # Wrap the dataloader with tqdm to get a progress bar\n",
    "        progress_bar = tqdm(dataloader_train, desc=f\"Epoch {epoch+1}/{num_epochs}\")\n",
    "        for i, batch in enumerate(progress_bar):\n",
    "            optimizer.zero_grad()\n",
    "            inputs, labels = batch\n",
    "            inputs = {k: v.to(device) for k, v in inputs.items()}\n",
    "            labels = labels.to(device)\n",
    "            outputs = model(**inputs)\n",
    "            loss = loss_func(outputs, labels)\n",
    "            loss.backward()\n",
    "            clip_grad_norm_(model.parameters(), MAX_GRAD_NORM)\n",
    "            optimizer.step()\n",
    "            \n",
    "            # Update the running loss and display it in tqdm's description\n",
    "            current_loss = loss.item()\n",
    "            running_loss += current_loss\n",
    "            loss_history.append(current_loss)\n",
    "            if i % 10 == 9:  # Print every 10 batches\n",
    "                avg_loss = running_loss / 10\n",
    "                progress_bar.set_description(f\"Epoch {epoch+1}/{num_epochs}, Loss: {avg_loss:.4f}\")\n",
    "                running_loss = 0.0\n",
    "        scheduler.step()\n",
    "\n",
    "    return model, loss_history\n",
    "\n",
    "# Usage:\n",
    "if is_interactive:\n",
    "    model, train_loss = train_model(df_4_fold_train)\n",
    "else:\n",
    "    model, train_loss = train_model(df_train)\n"
   ]
  },
  {
   "cell_type": "code",
   "execution_count": 18,
   "id": "998d31a7",
   "metadata": {
    "execution": {
     "iopub.execute_input": "2023-08-17T15:12:49.874311Z",
     "iopub.status.busy": "2023-08-17T15:12:49.873945Z",
     "iopub.status.idle": "2023-08-17T15:12:50.301412Z",
     "shell.execute_reply": "2023-08-17T15:12:50.300310Z"
    },
    "papermill": {
     "duration": 0.566421,
     "end_time": "2023-08-17T15:12:50.304650",
     "exception": false,
     "start_time": "2023-08-17T15:12:49.738229",
     "status": "completed"
    },
    "tags": []
   },
   "outputs": [
    {
     "data": {
      "image/png": "[encoded data removed]",
      "text/plain": [
       "<Figure size 1000x500 with 1 Axes>"
      ]
     },
     "metadata": {},
     "output_type": "display_data"
    }
   ],
   "source": [
    "import matplotlib.pyplot as plt\n",
    "\n",
    "# Plotting the loss history\n",
    "plt.figure(figsize=(10, 5))\n",
    "plt.plot(train_loss, label='Training Loss')\n",
    "plt.title('Training Loss Over Time')\n",
    "plt.xlabel('Every Batche')\n",
    "plt.ylabel('Average Loss')\n",
    "plt.legend()\n",
    "plt.show()"
   ]
  },
  {
   "cell_type": "markdown",
   "id": "2d334c8d",
   "metadata": {
    "papermill": {
     "duration": 0.132361,
     "end_time": "2023-08-17T15:12:50.575040",
     "exception": false,
     "start_time": "2023-08-17T15:12:50.442679",
     "status": "completed"
    },
    "tags": []
   },
   "source": [
    "## Inference"
   ]
  },
  {
   "cell_type": "code",
   "execution_count": 19,
   "id": "cd6b9032",
   "metadata": {
    "execution": {
     "iopub.execute_input": "2023-08-17T15:12:50.842166Z",
     "iopub.status.busy": "2023-08-17T15:12:50.841744Z",
     "iopub.status.idle": "2023-08-17T15:14:28.288921Z",
     "shell.execute_reply": "2023-08-17T15:14:28.287735Z"
    },
    "papermill": {
     "duration": 97.588845,
     "end_time": "2023-08-17T15:14:28.292257",
     "exception": false,
     "start_time": "2023-08-17T15:12:50.703412",
     "status": "completed"
    },
    "scrolled": true,
    "tags": []
   },
   "outputs": [
    {
     "name": "stderr",
     "output_type": "stream",
     "text": [
      "Special tokens have been added in the vocabulary, make sure the associated word embeddings are fine-tuned or trained.\n",
      "Special tokens have been added in the vocabulary, make sure the associated word embeddings are fine-tuned or trained.\n",
      "Some weights of the model checkpoint at /kaggle/input/debertav3base were not used when initializing DebertaV2Model: ['mask_predictions.LayerNorm.bias', 'mask_predictions.dense.weight', 'mask_predictions.LayerNorm.weight', 'mask_predictions.dense.bias', 'lm_predictions.lm_head.LayerNorm.bias', 'mask_predictions.classifier.weight', 'lm_predictions.lm_head.dense.bias', 'lm_predictions.lm_head.bias', 'lm_predictions.lm_head.dense.weight', 'mask_predictions.classifier.bias', 'lm_predictions.lm_head.LayerNorm.weight']\n",
      "- This IS expected if you are initializing DebertaV2Model from the checkpoint of a model trained on another task or with another architecture (e.g. initializing a BertForSequenceClassification model from a BertForPreTraining model).\n",
      "- This IS NOT expected if you are initializing DebertaV2Model from the checkpoint of a model that you expect to be exactly identical (initializing a BertForSequenceClassification model from a BertForSequenceClassification model).\n"
     ]
    }
   ],
   "source": [
    "\n",
    "_, tokenizer = load_pretrained()\n",
    "\n",
    "# Now predict in batches:\n",
    "df_val['predicted_content'], df_val['predicted_wording'] = predict_with_transformer(model, tokenizer, df_val)\n",
    "df_test['content'], df_test['wording'] = predict_with_transformer(model, tokenizer, df_test)"
   ]
  },
  {
   "cell_type": "markdown",
   "id": "5a9e6af5",
   "metadata": {
    "papermill": {
     "duration": 0.14469,
     "end_time": "2023-08-17T15:14:28.580594",
     "exception": false,
     "start_time": "2023-08-17T15:14:28.435904",
     "status": "completed"
    },
    "tags": []
   },
   "source": [
    "## Evaluation"
   ]
  },
  {
   "cell_type": "code",
   "execution_count": 20,
   "id": "1e4484f5",
   "metadata": {
    "execution": {
     "iopub.execute_input": "2023-08-17T15:14:28.864275Z",
     "iopub.status.busy": "2023-08-17T15:14:28.863671Z",
     "iopub.status.idle": "2023-08-17T15:14:28.877022Z",
     "shell.execute_reply": "2023-08-17T15:14:28.875356Z"
    },
    "papermill": {
     "duration": 0.160516,
     "end_time": "2023-08-17T15:14:28.879860",
     "exception": false,
     "start_time": "2023-08-17T15:14:28.719344",
     "status": "completed"
    },
    "tags": []
   },
   "outputs": [
    {
     "name": "stdout",
     "output_type": "stream",
     "text": [
      "df_val\n",
      "(0.4213328749671244, 0.3339528541706419, 0.5087128957636069)\n"
     ]
    }
   ],
   "source": [
    "print(\"df_val\")\n",
    "print(compute_mcrmse(df_val))"
   ]
  },
  {
   "cell_type": "markdown",
   "id": "1b8d3cad",
   "metadata": {
    "papermill": {
     "duration": 0.140855,
     "end_time": "2023-08-17T15:14:29.198257",
     "exception": false,
     "start_time": "2023-08-17T15:14:29.057402",
     "status": "completed"
    },
    "tags": []
   },
   "source": [
    "## Submit"
   ]
  },
  {
   "cell_type": "code",
   "execution_count": 21,
   "id": "8f2148c9",
   "metadata": {
    "execution": {
     "iopub.execute_input": "2023-08-17T15:14:29.471586Z",
     "iopub.status.busy": "2023-08-17T15:14:29.471171Z",
     "iopub.status.idle": "2023-08-17T15:14:29.496959Z",
     "shell.execute_reply": "2023-08-17T15:14:29.495716Z"
    },
    "papermill": {
     "duration": 0.161081,
     "end_time": "2023-08-17T15:14:29.499526",
     "exception": false,
     "start_time": "2023-08-17T15:14:29.338445",
     "status": "completed"
    },
    "tags": []
   },
   "outputs": [
    {
     "name": "stdout",
     "output_type": "stream",
     "text": [
      "df_test.shape: (4, 12)\n"
     ]
    },
    {
     "data": {
      "text/html": [
       "<div>\n",
       "<style scoped>\n",
       "    .dataframe tbody tr th:only-of-type {\n",
       "        vertical-align: middle;\n",
       "    }\n",
       "\n",
       "    .dataframe tbody tr th {\n",
       "        vertical-align: top;\n",
       "    }\n",
       "\n",
       "    .dataframe thead th {\n",
       "        text-align: right;\n",
       "    }\n",
       "</style>\n",
       "<table border=\"1\" class=\"dataframe\">\n",
       "  <thead>\n",
       "    <tr style=\"text-align: right;\">\n",
       "      <th></th>\n",
       "      <th>student_id</th>\n",
       "      <th>content</th>\n",
       "      <th>wording</th>\n",
       "    </tr>\n",
       "  </thead>\n",
       "  <tbody>\n",
       "    <tr>\n",
       "      <th>0</th>\n",
       "      <td>000000ffffff</td>\n",
       "      <td>-1.277360</td>\n",
       "      <td>-0.834852</td>\n",
       "    </tr>\n",
       "    <tr>\n",
       "      <th>1</th>\n",
       "      <td>222222cccccc</td>\n",
       "      <td>-1.281065</td>\n",
       "      <td>-0.813375</td>\n",
       "    </tr>\n",
       "    <tr>\n",
       "      <th>2</th>\n",
       "      <td>111111eeeeee</td>\n",
       "      <td>-1.280243</td>\n",
       "      <td>-0.817175</td>\n",
       "    </tr>\n",
       "    <tr>\n",
       "      <th>3</th>\n",
       "      <td>333333dddddd</td>\n",
       "      <td>-1.281941</td>\n",
       "      <td>-0.809116</td>\n",
       "    </tr>\n",
       "  </tbody>\n",
       "</table>\n",
       "</div>"
      ],
      "text/plain": [
       "     student_id   content   wording\n",
       "0  000000ffffff -1.277360 -0.834852\n",
       "1  222222cccccc -1.281065 -0.813375\n",
       "2  111111eeeeee -1.280243 -0.817175\n",
       "3  333333dddddd -1.281941 -0.809116"
      ]
     },
     "metadata": {},
     "output_type": "display_data"
    }
   ],
   "source": [
    "print(f\"df_test.shape: {df_test.shape}\")\n",
    "\n",
    "def is_valid_float(x):\n",
    "    return isinstance(x, float) and x == x  # This checks that x is not NaN since NaN != NaN in Python.\n",
    "\n",
    "# Replace non-float values in 'wording' and 'content' with zero\n",
    "cols_to_check = ['wording', 'content']\n",
    "df_test[cols_to_check] = df_test[cols_to_check].applymap(lambda x: x if is_valid_float(x) else 0.0)\n",
    " \n",
    "df_test[['student_id', 'content', 'wording']].to_csv('submission.csv',index=False)\n",
    "display(pd.read_csv('submission.csv'))"
   ]
  }
 ],
 "metadata": {
  "kernelspec": {
   "display_name": "Python 3",
   "language": "python",
   "name": "python3"
  },
  "language_info": {
   "codemirror_mode": {
    "name": "ipython",
    "version": 3
   },
   "file_extension": ".py",
   "mimetype": "text/x-python",
   "name": "python",
   "nbconvert_exporter": "python",
   "pygments_lexer": "ipython3",
   "version": "3.10.12"
  },
  "papermill": {
   "default_parameters": {},
   "duration": 2480.315007,
   "end_time": "2023-08-17T15:14:32.748646",
   "environment_variables": {},
   "exception": null,
   "input_path": "__notebook__.ipynb",
   "output_path": "__notebook__.ipynb",
   "parameters": {},
   "start_time": "2023-08-17T14:33:12.433639",
   "version": "2.4.0"
  }
 },
 "nbformat": 4,
 "nbformat_minor": 5
}
